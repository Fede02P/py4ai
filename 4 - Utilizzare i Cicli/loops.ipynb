{
  "nbformat": 4,
  "nbformat_minor": 0,
  "metadata": {
    "colab": {
      "name": "loops.ipynb",
      "provenance": [],
      "include_colab_link": true
    },
    "kernelspec": {
      "name": "python3",
      "display_name": "Python 3"
    }
  },
  "cells": [
    {
      "cell_type": "markdown",
      "metadata": {
        "id": "view-in-github",
        "colab_type": "text"
      },
      "source": [
        "<a href=\"https://colab.research.google.com/github/ProfAI/py4ai/blob/master/4%20-%20Utilizzare%20i%20Cicli/loops.ipynb\" target=\"_parent\"><img src=\"https://colab.research.google.com/assets/colab-badge.svg\" alt=\"Open In Colab\"/></a>"
      ]
    },
    {
      "cell_type": "markdown",
      "metadata": {
        "id": "KqY9nwbFFEV6",
        "colab_type": "text"
      },
      "source": [
        "# I Cicli"
      ]
    },
    {
      "cell_type": "markdown",
      "metadata": {
        "id": "5mHug8-uH3uV",
        "colab_type": "text"
      },
      "source": [
        "## il Ciclo WHILE"
      ]
    },
    {
      "cell_type": "code",
      "metadata": {
        "id": "qH3Qs7RYIGV7",
        "colab_type": "code",
        "colab": {
          "base_uri": "https://localhost:8080/",
          "height": 69
        },
        "outputId": "a3d55d1d-fc86-48f0-d2d4-184d324303a1"
      },
      "source": [
        "msg = \"\"\n",
        "\n",
        "while(msg != \"esci\"):\n",
        "  msg = input(\"Giuseppe: \")"
      ],
      "execution_count": 3,
      "outputs": [
        {
          "output_type": "stream",
          "text": [
            "Giuseppe: ciao\n",
            "Giuseppe: come stai ?\n",
            "Giuseppe: esci\n"
          ],
          "name": "stdout"
        }
      ]
    },
    {
      "cell_type": "code",
      "metadata": {
        "id": "YK8oZJu2IuCh",
        "colab_type": "code",
        "colab": {
          "base_uri": "https://localhost:8080/",
          "height": 225
        },
        "outputId": "f6d17788-4b0e-4858-a605-a132f70ffd6d"
      },
      "source": [
        "n = int(input(\"Fino a che numero vuoi stampare ? \"))\n",
        "i = 0\n",
        "\n",
        "while i<=n:\n",
        "  print(i)\n",
        "  i+=1 # equivale a i=i+1"
      ],
      "execution_count": 5,
      "outputs": [
        {
          "output_type": "stream",
          "text": [
            "Fino a che numero vuoi stampare ? 10\n",
            "0\n",
            "1\n",
            "2\n",
            "3\n",
            "4\n",
            "5\n",
            "6\n",
            "7\n",
            "8\n",
            "9\n",
            "10\n"
          ],
          "name": "stdout"
        }
      ]
    },
    {
      "cell_type": "code",
      "metadata": {
        "id": "EBtxMThvJCjZ",
        "colab_type": "code",
        "colab": {
          "base_uri": "https://localhost:8080/",
          "height": 225
        },
        "outputId": "1112501b-9c32-4b6a-959f-e8bc89c8d61f"
      },
      "source": [
        "n = int(input(\"Fino a che numero vuoi stampare ? \"))\n",
        "i = 0\n",
        "\n",
        "while i<=n:\n",
        "  if(i%2):\n",
        "    print(\"%d è dispari\" % i)\n",
        "  else:\n",
        "    print(\"%d è pari\" % i)\n",
        "  i+=1"
      ],
      "execution_count": 7,
      "outputs": [
        {
          "output_type": "stream",
          "text": [
            "Fino a che numero vuoi stampare ? 10\n",
            "0 è pari\n",
            "1 è dispari\n",
            "2 è pari\n",
            "3 è dispari\n",
            "4 è pari\n",
            "5 è dispari\n",
            "6 è pari\n",
            "7 è dispari\n",
            "8 è pari\n",
            "9 è dispari\n",
            "10 è pari\n"
          ],
          "name": "stdout"
        }
      ]
    },
    {
      "cell_type": "code",
      "metadata": {
        "id": "1jsfJSPHJg5J",
        "colab_type": "code",
        "colab": {
          "base_uri": "https://localhost:8080/",
          "height": 225
        },
        "outputId": "10408972-564e-45b2-95ba-57a1d4e7f171"
      },
      "source": [
        "n = int(input(\"Fino a che numero vuoi stampare ? \"))\n",
        "i = 0\n",
        "\n",
        "while i<=n:\n",
        "  print(\"%d è %s\" % (i, \"dispari\" if i%2 else \"pari\"))  \n",
        "  i+=1"
      ],
      "execution_count": 13,
      "outputs": [
        {
          "output_type": "stream",
          "text": [
            "Fino a che numero vuoi stampare ? 10\n",
            "0 è pari\n",
            "1 è dispari\n",
            "2 è pari\n",
            "3 è dispari\n",
            "4 è pari\n",
            "5 è dispari\n",
            "6 è pari\n",
            "7 è dispari\n",
            "8 è pari\n",
            "9 è dispari\n",
            "10 è pari\n"
          ],
          "name": "stdout"
        }
      ]
    },
    {
      "cell_type": "markdown",
      "metadata": {
        "id": "0RacQlOiFG3r",
        "colab_type": "text"
      },
      "source": [
        "## il Ciclo FOR"
      ]
    },
    {
      "cell_type": "code",
      "metadata": {
        "id": "KEhvVZk6E3zv",
        "colab_type": "code",
        "colab": {
          "base_uri": "https://localhost:8080/",
          "height": 208
        },
        "outputId": "1ce7d05e-a4c8-4b3e-d119-e959c6a9ba74"
      },
      "source": [
        "n = int(input(\"Fino a che numero vuoi stampare ? \"))\n",
        "i = 0\n",
        "\n",
        "for i in range(0, n):\n",
        "  print(\"%d è %s\" % (i, \"dispari\" if i%2 else \"pari\"))  "
      ],
      "execution_count": 15,
      "outputs": [
        {
          "output_type": "stream",
          "text": [
            "Fino a che numero vuoi stampare ? 10\n",
            "0 è pari\n",
            "1 è dispari\n",
            "2 è pari\n",
            "3 è dispari\n",
            "4 è pari\n",
            "5 è dispari\n",
            "6 è pari\n",
            "7 è dispari\n",
            "8 è pari\n",
            "9 è dispari\n"
          ],
          "name": "stdout"
        }
      ]
    },
    {
      "cell_type": "code",
      "metadata": {
        "id": "rh3HI5_mHr-y",
        "colab_type": "code",
        "colab": {
          "base_uri": "https://localhost:8080/",
          "height": 104
        },
        "outputId": "fe690864-041c-45e4-d751-fec407ac704a"
      },
      "source": [
        "shopping_list = [\"tofu\", \"latte di soia\", \"riso basmati\",\"yogurt greco\"]\n",
        "\n",
        "print(\"La mia lista della spesa:\")\n",
        "\n",
        "for i in range(len(shopping_list)):\n",
        "    print(\"%d) %s\" % (i+1,shopping_list[i]))"
      ],
      "execution_count": 16,
      "outputs": [
        {
          "output_type": "stream",
          "text": [
            "La mia lista della spesa:\n",
            "1) tofu\n",
            "2) latte di soia\n",
            "3) riso basmati\n",
            "4) yogurt greco\n"
          ],
          "name": "stdout"
        }
      ]
    },
    {
      "cell_type": "code",
      "metadata": {
        "id": "Gos4tiDJK4pr",
        "colab_type": "code",
        "colab": {
          "base_uri": "https://localhost:8080/",
          "height": 104
        },
        "outputId": "5c086e62-4724-4f05-e860-9774e07287f4"
      },
      "source": [
        "shopping_list = [\"tofu\", \"latte di soia\", \"riso basmati\",\"yogurt greco\"]\n",
        "\n",
        "print(\"La mia lista della spesa:\")\n",
        "\n",
        "for entry in shopping_list:\n",
        "    print(\"-\"+entry)"
      ],
      "execution_count": 17,
      "outputs": [
        {
          "output_type": "stream",
          "text": [
            "La mia lista della spesa:\n",
            "-tofu\n",
            "-latte di soia\n",
            "-riso basmati\n",
            "-yogurt greco\n"
          ],
          "name": "stdout"
        }
      ]
    },
    {
      "cell_type": "code",
      "metadata": {
        "id": "c8c1vzk3K8LS",
        "colab_type": "code",
        "colab": {
          "base_uri": "https://localhost:8080/",
          "height": 104
        },
        "outputId": "ee01cd4f-300a-47b3-df70-f00af409038b"
      },
      "source": [
        "shopping_list = [\"tofu\", \"latte di soia\", \"riso basmati\",\"yogurt greco\"]\n",
        "\n",
        "print(\"La mia lista della spesa:\")\n",
        "\n",
        "for i,entry in enumerate(shopping_list):\n",
        "    print(\"%d) %s\" % (i+1, entry))"
      ],
      "execution_count": 19,
      "outputs": [
        {
          "output_type": "stream",
          "text": [
            "La mia lista della spesa:\n",
            "1) tofu\n",
            "2) latte di soia\n",
            "3) riso basmati\n",
            "4) yogurt greco\n"
          ],
          "name": "stdout"
        }
      ]
    }
  ]
}