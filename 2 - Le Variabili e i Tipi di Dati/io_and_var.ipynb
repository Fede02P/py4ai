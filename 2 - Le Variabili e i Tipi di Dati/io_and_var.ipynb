{
  "nbformat": 4,
  "nbformat_minor": 0,
  "metadata": {
    "colab": {
      "name": "io_and_var.ipynb",
      "provenance": [],
      "include_colab_link": true
    },
    "kernelspec": {
      "name": "python3",
      "display_name": "Python 3"
    }
  },
  "cells": [
    {
      "cell_type": "markdown",
      "metadata": {
        "id": "view-in-github",
        "colab_type": "text"
      },
      "source": [
        "<a href=\"https://colab.research.google.com/github/ProfAI/py4ai/blob/master/2%20-%20Le%20Variabili%20e%20i%20Tipi%20di%20Dati/io_and_var.ipynb\" target=\"_parent\"><img src=\"https://colab.research.google.com/assets/colab-badge.svg\" alt=\"Open In Colab\"/></a>"
      ]
    },
    {
      "cell_type": "markdown",
      "metadata": {
        "id": "zdb9N2CeOdBd",
        "colab_type": "text"
      },
      "source": [
        "## Input e Output"
      ]
    },
    {
      "cell_type": "markdown",
      "metadata": {
        "id": "3FuWDdrmO_iD",
        "colab_type": "text"
      },
      "source": [
        "Output"
      ]
    },
    {
      "cell_type": "code",
      "metadata": {
        "id": "OkE3NxA8NvSY",
        "colab_type": "code",
        "colab": {
          "base_uri": "https://localhost:8080/",
          "height": 69
        },
        "outputId": "ed2a1e13-e387-40d3-9b35-c7a06fced8f5"
      },
      "source": [
        "print(\"Ciao mondo\") # stampiamo del testo\n",
        "print(5) # stampiamo un numero intero\n",
        "print(0.5) # stampiamo un numero con la virgola"
      ],
      "execution_count": 1,
      "outputs": [
        {
          "output_type": "stream",
          "text": [
            "Ciao mondo\n",
            "5\n",
            "0.5\n"
          ],
          "name": "stdout"
        }
      ]
    },
    {
      "cell_type": "markdown",
      "metadata": {
        "id": "rjIEClpfO1q8",
        "colab_type": "text"
      },
      "source": [
        "Operazioni di base"
      ]
    },
    {
      "cell_type": "code",
      "metadata": {
        "id": "geHa-R08Odhs",
        "colab_type": "code",
        "colab": {}
      },
      "source": [
        "# somma\n",
        "print(5+3)\n",
        "\n",
        "# sottrazione\n",
        "print(4-1)\n",
        "\n",
        "# prodotto\n",
        "print(3*2)\n",
        "\n",
        "# divisione\n",
        "print(4/2)\n",
        "\n",
        "# resto\n",
        "print(5%2)\n",
        "\n",
        "# unire due stringhe\n",
        "print(\"5\"+\"2\")"
      ],
      "execution_count": 0,
      "outputs": []
    },
    {
      "cell_type": "markdown",
      "metadata": {
        "id": "LAx3DkPyPCTY",
        "colab_type": "text"
      },
      "source": [
        "Input"
      ]
    },
    {
      "cell_type": "code",
      "metadata": {
        "id": "bD72KtaaO7-7",
        "colab_type": "code",
        "colab": {}
      },
      "source": [
        "name = input(\"Come ti chiami ? \")\n",
        "print(\"Felice di conoscerti\",name)"
      ],
      "execution_count": 0,
      "outputs": []
    },
    {
      "cell_type": "markdown",
      "metadata": {
        "id": "ZXC1-xtmPFAa",
        "colab_type": "text"
      },
      "source": [
        "Le variabili"
      ]
    },
    {
      "cell_type": "code",
      "metadata": {
        "id": "8ga4yreoPFzu",
        "colab_type": "code",
        "colab": {
          "base_uri": "https://localhost:8080/",
          "height": 35
        },
        "outputId": "008275e5-4fb2-424b-f1ee-b7fd7100a3fe"
      },
      "source": [
        "num = 5\n",
        "print(num)"
      ],
      "execution_count": 2,
      "outputs": [
        {
          "output_type": "stream",
          "text": [
            "5\n"
          ],
          "name": "stdout"
        }
      ]
    },
    {
      "cell_type": "code",
      "metadata": {
        "id": "HZeOfay2PIS4",
        "colab_type": "code",
        "colab": {
          "base_uri": "https://localhost:8080/",
          "height": 35
        },
        "outputId": "fdc59ec1-d1e3-419f-c7e1-72e20582b27a"
      },
      "source": [
        "word = \"ciao\"\n",
        "print(word)"
      ],
      "execution_count": 3,
      "outputs": [
        {
          "output_type": "stream",
          "text": [
            "ciao\n"
          ],
          "name": "stdout"
        }
      ]
    },
    {
      "cell_type": "code",
      "metadata": {
        "id": "wXwOhHtfPMi_",
        "colab_type": "code",
        "colab": {
          "base_uri": "https://localhost:8080/",
          "height": 52
        },
        "outputId": "99770e37-0341-41b5-c9d7-1bf20e98858a"
      },
      "source": [
        "cat = input(\"Inserisci un nome per il tuo nuovo gatto: \")\n",
        "print(cat,\"è il tuo nuovo padrone\")"
      ],
      "execution_count": 4,
      "outputs": [
        {
          "output_type": "stream",
          "text": [
            "Inserisci un nome per il tuo nuovo gatto: elon\n",
            "elon  è il tuo nuovo padrone\n"
          ],
          "name": "stdout"
        }
      ]
    },
    {
      "cell_type": "markdown",
      "metadata": {
        "id": "JSjT7ja8PXAO",
        "colab_type": "text"
      },
      "source": [
        "## Tipi di Dati"
      ]
    },
    {
      "cell_type": "code",
      "metadata": {
        "id": "QqdYtt7GPR4M",
        "colab_type": "code",
        "colab": {
          "base_uri": "https://localhost:8080/",
          "height": 35
        },
        "outputId": "945ed75b-3908-4925-c0ca-c4b81e59280b"
      },
      "source": [
        "var = \"ciao\"\n",
        "type(var)"
      ],
      "execution_count": 5,
      "outputs": [
        {
          "output_type": "execute_result",
          "data": {
            "text/plain": [
              "str"
            ]
          },
          "metadata": {
            "tags": []
          },
          "execution_count": 5
        }
      ]
    },
    {
      "cell_type": "code",
      "metadata": {
        "id": "g5ytkE8uPcEt",
        "colab_type": "code",
        "colab": {
          "base_uri": "https://localhost:8080/",
          "height": 35
        },
        "outputId": "93b3a712-ea44-4ae9-e522-148a0b1e96bb"
      },
      "source": [
        "var = 5 # Intero\n",
        "var = 4.15 # Float\n",
        "var = \"ciao ciao\" # Stringa\n",
        "var = True # Boolean\n",
        "\n",
        "type(var)"
      ],
      "execution_count": 7,
      "outputs": [
        {
          "output_type": "execute_result",
          "data": {
            "text/plain": [
              "bool"
            ]
          },
          "metadata": {
            "tags": []
          },
          "execution_count": 7
        }
      ]
    },
    {
      "cell_type": "markdown",
      "metadata": {
        "id": "IzJLuB1APvYi",
        "colab_type": "text"
      },
      "source": [
        "Casting"
      ]
    },
    {
      "cell_type": "code",
      "metadata": {
        "id": "s4NqmKXRPfYH",
        "colab_type": "code",
        "colab": {
          "base_uri": "https://localhost:8080/",
          "height": 35
        },
        "outputId": "2ba26107-67ba-4d3a-dd9e-bfd99c388845"
      },
      "source": [
        "var = 1 # intero\n",
        "var = float(var) # da intero a float\n",
        "print(var, type(var))"
      ],
      "execution_count": 10,
      "outputs": [
        {
          "output_type": "stream",
          "text": [
            "1.0 <class 'float'>\n"
          ],
          "name": "stdout"
        }
      ]
    },
    {
      "cell_type": "code",
      "metadata": {
        "id": "nU-DSTsHQiMZ",
        "colab_type": "code",
        "colab": {
          "base_uri": "https://localhost:8080/",
          "height": 35
        },
        "outputId": "7aeece43-ba38-46e4-961a-b4f6974241d5"
      },
      "source": [
        "var = 1.5 # float\n",
        "var = int(var) # da float a intero\n",
        "print(var, type(var))"
      ],
      "execution_count": 12,
      "outputs": [
        {
          "output_type": "stream",
          "text": [
            "1 <class 'int'>\n"
          ],
          "name": "stdout"
        }
      ]
    },
    {
      "cell_type": "code",
      "metadata": {
        "id": "KD5v_-8dPtgd",
        "colab_type": "code",
        "colab": {
          "base_uri": "https://localhost:8080/",
          "height": 35
        },
        "outputId": "cb1e2c32-c88c-44cf-f248-4958fc8227f0"
      },
      "source": [
        "var = 5 # intero\n",
        "var = str(var) # da intero a stringa\n",
        "print(var, type(var))"
      ],
      "execution_count": 14,
      "outputs": [
        {
          "output_type": "stream",
          "text": [
            "5 <class 'str'>\n"
          ],
          "name": "stdout"
        }
      ]
    },
    {
      "cell_type": "code",
      "metadata": {
        "id": "AVEw1OzJQLw2",
        "colab_type": "code",
        "colab": {
          "base_uri": "https://localhost:8080/",
          "height": 35
        },
        "outputId": "682afb4d-f73a-45c8-a697-3280ca7d3df8"
      },
      "source": [
        "var = \"5\" # stringa\n",
        "var = int(var) # da stringa a intero\n",
        "print(var, type(var))"
      ],
      "execution_count": 15,
      "outputs": [
        {
          "output_type": "stream",
          "text": [
            "5 <class 'int'>\n"
          ],
          "name": "stdout"
        }
      ]
    },
    {
      "cell_type": "code",
      "metadata": {
        "id": "ZQ19r_PNQ8OY",
        "colab_type": "code",
        "colab": {
          "base_uri": "https://localhost:8080/",
          "height": 201
        },
        "outputId": "217222dc-48cc-456f-9e8f-682da2a79275"
      },
      "source": [
        "var = \"boh\" # stringa che non contiene un numero\n",
        "var = int(var) # da stringa a intero, qui si scatena un'eccezione\n",
        "print(var, type(var))"
      ],
      "execution_count": 17,
      "outputs": [
        {
          "output_type": "error",
          "ename": "ValueError",
          "evalue": "ignored",
          "traceback": [
            "\u001b[0;31m---------------------------------------------------------------------------\u001b[0m",
            "\u001b[0;31mValueError\u001b[0m                                Traceback (most recent call last)",
            "\u001b[0;32m<ipython-input-17-6b04af5af7aa>\u001b[0m in \u001b[0;36m<module>\u001b[0;34m()\u001b[0m\n\u001b[1;32m      1\u001b[0m \u001b[0mvar\u001b[0m \u001b[0;34m=\u001b[0m \u001b[0;34m\"boh\"\u001b[0m \u001b[0;31m# stringa che non contiene un numero\u001b[0m\u001b[0;34m\u001b[0m\u001b[0;34m\u001b[0m\u001b[0m\n\u001b[0;32m----> 2\u001b[0;31m \u001b[0mvar\u001b[0m \u001b[0;34m=\u001b[0m \u001b[0mint\u001b[0m\u001b[0;34m(\u001b[0m\u001b[0mvar\u001b[0m\u001b[0;34m)\u001b[0m \u001b[0;31m# da stringa a intero, qui si scatena un'eccezione\u001b[0m\u001b[0;34m\u001b[0m\u001b[0;34m\u001b[0m\u001b[0m\n\u001b[0m\u001b[1;32m      3\u001b[0m \u001b[0mprint\u001b[0m\u001b[0;34m(\u001b[0m\u001b[0mvar\u001b[0m\u001b[0;34m,\u001b[0m \u001b[0mtype\u001b[0m\u001b[0;34m(\u001b[0m\u001b[0mvar\u001b[0m\u001b[0;34m)\u001b[0m\u001b[0;34m)\u001b[0m\u001b[0;34m\u001b[0m\u001b[0;34m\u001b[0m\u001b[0m\n",
            "\u001b[0;31mValueError\u001b[0m: invalid literal for int() with base 10: 'boh'"
          ]
        }
      ]
    },
    {
      "cell_type": "code",
      "metadata": {
        "id": "1xRFxFksRNIH",
        "colab_type": "code",
        "colab": {}
      },
      "source": [
        ""
      ],
      "execution_count": 0,
      "outputs": []
    }
  ]
}