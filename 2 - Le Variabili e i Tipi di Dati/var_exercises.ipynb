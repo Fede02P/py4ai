{
  "nbformat": 4,
  "nbformat_minor": 0,
  "metadata": {
    "colab": {
      "name": "var_exercises.ipynb",
      "provenance": [],
      "collapsed_sections": [],
      "include_colab_link": true
    },
    "kernelspec": {
      "name": "python3",
      "display_name": "Python 3"
    }
  },
  "cells": [
    {
      "cell_type": "markdown",
      "metadata": {
        "id": "view-in-github",
        "colab_type": "text"
      },
      "source": [
        "<a href=\"https://colab.research.google.com/github/ProfAI/py4ai/blob/master/2%20-%20Le%20Variabili%20e%20i%20Tipi%20di%20Dati/var_exercises.ipynb\" target=\"_parent\"><img src=\"https://colab.research.google.com/assets/colab-badge.svg\" alt=\"Open In Colab\"/></a>"
      ]
    },
    {
      "cell_type": "markdown",
      "metadata": {
        "id": "Hy1bgNlojTan",
        "colab_type": "text"
      },
      "source": [
        "# Esercizi con le Variabili"
      ]
    },
    {
      "cell_type": "markdown",
      "metadata": {
        "id": "kHJ2SWjejfMa",
        "colab_type": "text"
      },
      "source": [
        "## 1. Operazioni Aritmetiche [[Esercizio su HackerRank](https://www.hackerrank.com/challenges/python-arithmetic-operators/problem()]\n",
        "\n",
        "1 Inserisci due interi come input e stampa tre linee dove:\n",
        "\n",
        "1. La prima contiene la somma dei due numeri.\n",
        "2. La seconda contiene la differenza tra i due numeri (primo - secondo).\n",
        "3. La terza linea contiene il prodotto tra i due numeri.\n"
      ]
    },
    {
      "cell_type": "code",
      "metadata": {
        "id": "3DSCntfdjOvU",
        "colab_type": "code",
        "colab": {
          "base_uri": "https://localhost:8080/",
          "height": 104
        },
        "outputId": "6a754b43-9d59-4142-fc64-71f8516c166e"
      },
      "source": [
        "a = int(input())\n",
        "b = int(input())\n",
        "\n",
        "print(a+b)\n",
        "print(a-b)\n",
        "print(a*b)"
      ],
      "execution_count": 1,
      "outputs": [
        {
          "output_type": "stream",
          "text": [
            "5\n",
            "2\n",
            "7\n",
            "3\n",
            "10\n"
          ],
          "name": "stdout"
        }
      ]
    },
    {
      "cell_type": "markdown",
      "metadata": {
        "id": "2FtyaIXWkztb",
        "colab_type": "text"
      },
      "source": [
        "## 2. Divisioni [[Esercizio su HackerRank](https://www.hackerrank.com/challenges/python-division/problem)]\n",
        "Leggi due interi come input e stampa due linee dove:\n",
        "1. La prima linea deve contenere il risultato della divisione tra a e b come un numero intero\n",
        "2. La seconda linea deve contenere il risultato della divisione tra a e b come un numero con la virgola\n"
      ]
    },
    {
      "cell_type": "code",
      "metadata": {
        "id": "ndYQza22kotE",
        "colab_type": "code",
        "colab": {}
      },
      "source": [
        "a = int(input())\n",
        "b = int(input())\n",
        "\n",
        "print(a//b)\n",
        "print(a/b)"
      ],
      "execution_count": 0,
      "outputs": []
    }
  ]
}