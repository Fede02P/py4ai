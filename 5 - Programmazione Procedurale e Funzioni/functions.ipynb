{
  "nbformat": 4,
  "nbformat_minor": 0,
  "metadata": {
    "colab": {
      "name": "functions.ipynb",
      "provenance": [],
      "include_colab_link": true
    },
    "kernelspec": {
      "name": "python3",
      "display_name": "Python 3"
    }
  },
  "cells": [
    {
      "cell_type": "markdown",
      "metadata": {
        "id": "view-in-github",
        "colab_type": "text"
      },
      "source": [
        "<a href=\"https://colab.research.google.com/github/ProfAI/py4ai/blob/master/5%20-%20Programmazione%20Procedurale%20e%20Funzioni/functions.ipynb\" target=\"_parent\"><img src=\"https://colab.research.google.com/assets/colab-badge.svg\" alt=\"Open In Colab\"/></a>"
      ]
    },
    {
      "cell_type": "markdown",
      "metadata": {
        "id": "GfV3QBKMNWPu",
        "colab_type": "text"
      },
      "source": [
        "# La Programmazione Procedurale"
      ]
    },
    {
      "cell_type": "markdown",
      "metadata": {
        "id": "UdvmWm8dZOnQ",
        "colab_type": "text"
      },
      "source": [
        "## Le Funzioni"
      ]
    },
    {
      "cell_type": "code",
      "metadata": {
        "id": "nVdzUew7ZXGN",
        "colab_type": "code",
        "colab": {
          "base_uri": "https://localhost:8080/",
          "height": 35
        },
        "outputId": "bf401a8e-e9e5-4bae-b31e-f91e579e7df6"
      },
      "source": [
        "def say_hello():\n",
        "  print(\"Say hello\")\n",
        "\n",
        "say_hello()"
      ],
      "execution_count": 6,
      "outputs": [
        {
          "output_type": "stream",
          "text": [
            "Say hello\n"
          ],
          "name": "stdout"
        }
      ]
    },
    {
      "cell_type": "code",
      "metadata": {
        "id": "JNdMWUMxZfFZ",
        "colab_type": "code",
        "colab": {
          "base_uri": "https://localhost:8080/",
          "height": 35
        },
        "outputId": "fcdb3f13-f4de-4ecb-f7dd-dcbbcdc23dfa"
      },
      "source": [
        "def say_something(something):\n",
        "  print(\"Say \"+something)\n",
        "\n",
        "say_something(\"bye bye\")"
      ],
      "execution_count": 7,
      "outputs": [
        {
          "output_type": "stream",
          "text": [
            "Say bye bye\n"
          ],
          "name": "stdout"
        }
      ]
    },
    {
      "cell_type": "code",
      "metadata": {
        "id": "TmQUnJC0aOaR",
        "colab_type": "code",
        "colab": {
          "base_uri": "https://localhost:8080/",
          "height": 166
        },
        "outputId": "f1a36e8b-f63d-40fc-8bad-24fb047f62f4"
      },
      "source": [
        "say_something()"
      ],
      "execution_count": 8,
      "outputs": [
        {
          "output_type": "error",
          "ename": "TypeError",
          "evalue": "ignored",
          "traceback": [
            "\u001b[0;31m---------------------------------------------------------------------------\u001b[0m",
            "\u001b[0;31mTypeError\u001b[0m                                 Traceback (most recent call last)",
            "\u001b[0;32m<ipython-input-8-3ac846c20982>\u001b[0m in \u001b[0;36m<module>\u001b[0;34m()\u001b[0m\n\u001b[0;32m----> 1\u001b[0;31m \u001b[0msay_something\u001b[0m\u001b[0;34m(\u001b[0m\u001b[0;34m)\u001b[0m\u001b[0;34m\u001b[0m\u001b[0;34m\u001b[0m\u001b[0m\n\u001b[0m",
            "\u001b[0;31mTypeError\u001b[0m: say_something() missing 1 required positional argument: 'something'"
          ]
        }
      ]
    },
    {
      "cell_type": "code",
      "metadata": {
        "id": "OjAkPKqgaKUS",
        "colab_type": "code",
        "colab": {
          "base_uri": "https://localhost:8080/",
          "height": 35
        },
        "outputId": "b0934e41-aea5-45b8-c1d8-d8f774819060"
      },
      "source": [
        "def say_something(something=\"something\"):\n",
        "  print(\"Say \"+something)\n",
        "\n",
        "say_something()"
      ],
      "execution_count": 9,
      "outputs": [
        {
          "output_type": "stream",
          "text": [
            "Say something\n"
          ],
          "name": "stdout"
        }
      ]
    },
    {
      "cell_type": "code",
      "metadata": {
        "id": "kkgWbopRaUeB",
        "colab_type": "code",
        "colab": {
          "base_uri": "https://localhost:8080/",
          "height": 35
        },
        "outputId": "e2e76074-aa8a-42ec-c7fe-5c08a612493e"
      },
      "source": [
        "def say_something(something=\"something\"):\n",
        "  say = \"Say \"+something\n",
        "  return say\n",
        "\n",
        "say = say_something(\"arrivederci\")\n",
        "print(say)"
      ],
      "execution_count": 10,
      "outputs": [
        {
          "output_type": "stream",
          "text": [
            "Say arrivederci\n"
          ],
          "name": "stdout"
        }
      ]
    },
    {
      "cell_type": "code",
      "metadata": {
        "id": "iokVslrXbMaX",
        "colab_type": "code",
        "colab": {
          "base_uri": "https://localhost:8080/",
          "height": 104
        },
        "outputId": "b933bd11-605a-4154-aeb4-a66f7e61ad59"
      },
      "source": [
        "def print_shopping_list(shopping_list):\n",
        "    \n",
        "    print(\"La tua lista della spesa:\")\n",
        "    \n",
        "    for i, entry in enumerate(shopping_list):\n",
        "        print(\"%d) %s\" % (i+1, entry))\n",
        "    \n",
        "   \n",
        "shopping_list = [\"tofu\", \"latte di soia\", \"riso basmati\",\"yogurt greco\"]\n",
        "print_shopping_list(shopping_list)"
      ],
      "execution_count": 11,
      "outputs": [
        {
          "output_type": "stream",
          "text": [
            "La tua lista della spesa:\n",
            "1) tofu\n",
            "2) latte di soia\n",
            "3) riso basmati\n",
            "4) yogurt greco\n"
          ],
          "name": "stdout"
        }
      ]
    },
    {
      "cell_type": "code",
      "metadata": {
        "id": "0j1go2cbbN5E",
        "colab_type": "code",
        "colab": {
          "base_uri": "https://localhost:8080/",
          "height": 225
        },
        "outputId": "e0641109-c8ad-49bc-a258-9e12d7097920"
      },
      "source": [
        "def print_shopping_list(shopping_list, owner=\"Giuseppe\"):\n",
        "  \n",
        "  print(\"La lista della spesa di %s:\" % owner)\n",
        "  \n",
        "  for i, entry in enumerate(shopping_list):\n",
        "    print(\"%d) %s\" % (i+1, entry))\n",
        "    \n",
        "   \n",
        "shopping_list = [\"tofu\", \"latte di soia\", \"riso basmati\",\"yogurt greco\"]\n",
        "print_shopping_list(shopping_list)\n",
        "\n",
        "print(\"\\n\") # Stampiamo una linea vuota per separare le due stringhe\n",
        "\n",
        "shopping_list = [\"croccantini \", \"latte\", \"scatolette di tonno\",\"plutonio\"]\n",
        "print_shopping_list(shopping_list, owner=\"Elon\") # Elon è il nome del mio gatto :)"
      ],
      "execution_count": 15,
      "outputs": [
        {
          "output_type": "stream",
          "text": [
            "La lista della spesa di Giuseppe:\n",
            "1) tofu\n",
            "2) latte di soia\n",
            "3) riso basmati\n",
            "4) yogurt greco\n",
            "\n",
            "\n",
            "La lista della spesa di Elon:\n",
            "1) croccantini \n",
            "2) latte\n",
            "3) scatolette di tonno\n",
            "4) plutonio\n"
          ],
          "name": "stdout"
        }
      ]
    },
    {
      "cell_type": "code",
      "metadata": {
        "id": "nYbizeDkNGZM",
        "colab_type": "code",
        "colab": {
          "base_uri": "https://localhost:8080/",
          "height": 69
        },
        "outputId": "d4689e68-1aa3-4779-f82d-e1ef2b05a14e"
      },
      "source": [
        "def compute_area(b,h):\n",
        "    area = b*h/2\n",
        "    return area\n",
        "\n",
        "\n",
        "b = float(input(\"Inserisci la base del triangolo: \"))\n",
        "h = float(input(\"Inserisci l'altezza del triangolo: \"))\n",
        "\n",
        "area = compute_area(b, h)\n",
        "\n",
        "print(\"L'area del triangolo con base %.2f e altezza %.2f è %.2f\" %(b,h,area))"
      ],
      "execution_count": 19,
      "outputs": [
        {
          "output_type": "stream",
          "text": [
            "Inserisci la base del triangolo: 5\n",
            "Inserisci l'altezza del triangolo: 7.5\n",
            "L'area del triangolo con base 5.00 e altezza 7.50 è 18.75\n"
          ],
          "name": "stdout"
        }
      ]
    },
    {
      "cell_type": "code",
      "metadata": {
        "id": "00TL4IW9cY9u",
        "colab_type": "code",
        "colab": {
          "base_uri": "https://localhost:8080/",
          "height": 69
        },
        "outputId": "33014ba0-18ca-4eed-d3c0-1d45167735ce"
      },
      "source": [
        "def compute_area(b,h):\n",
        "    return b*h/2\n",
        "\n",
        "\n",
        "b = float(input(\"Inserisci la base del triangolo: \"))\n",
        "h = float(input(\"Inserisci l'altezza del triangolo: \"))\n",
        "\n",
        "area = compute_area(b, h)\n",
        "\n",
        "print(\"L'area del triangolo con base %.2f e altezza %.2f è %.2f\" %(b,h,area))"
      ],
      "execution_count": 20,
      "outputs": [
        {
          "output_type": "stream",
          "text": [
            "Inserisci la base del triangolo: 5\n",
            "Inserisci l'altezza del triangolo: 7.5\n",
            "L'area del triangolo con base 5.00 e altezza 7.50 è 18.75\n"
          ],
          "name": "stdout"
        }
      ]
    }
  ]
}