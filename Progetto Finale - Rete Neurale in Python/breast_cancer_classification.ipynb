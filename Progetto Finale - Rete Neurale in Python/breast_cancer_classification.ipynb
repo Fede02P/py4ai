{
 "cells": [
  {
   "cell_type": "markdown",
   "metadata": {},
   "source": [
    "# Riconoscere Tumori al Seno Maligni\n",
    "Mettiamo alla prova la nostra rete neurale su un problema più impegnativo, riconoscere tumori al seno maligni partendo da esami agobiopsici. A tal proposito utilizzere il [Bostob Breast Cancer Dataset](https://www.kaggle.com/uciml/breast-cancer-wisconsin-data). Per caricare il file da un csv possiamo utilizzare Pandas, una popolare libreria Python per l'analisi dati."
   ]
  },
  {
   "cell_type": "code",
   "execution_count": 1,
   "metadata": {},
   "outputs": [],
   "source": [
    "import pandas as pd\n",
    "\n",
    "CSV_URL = \"https://raw.githubusercontent.com/ProfAI/tutorials/master/Come%20Creare%20una%20Rete%20Neurale%20da%20Zero/breast_cancer.csv\"\n",
    "\n",
    "breast_cancer = pd.read_csv(CSV_URL)"
   ]
  },
  {
   "cell_type": "markdown",
   "metadata": {},
   "source": [
    "Il risultato sarà un DataFrame, una struttura dati che Pandas usa per rappresentare dati tabulari, possiamo avere una preview del suo contenuto usando il metodo .head().\n",
    "Il nostro dataset contiene in totale 563 righe (e quindi esempi) e 31 colonne, cioè 30 features e un target, che è la colonna “malignant”.\n",
    "Estraiamo features e target in array numpy."
   ]
  },
  {
   "cell_type": "code",
   "execution_count": 2,
   "metadata": {},
   "outputs": [],
   "source": [
    "X = breast_cancer.drop(\"malignant\", axis=1).values\n",
    "y = breast_cancer[\"malignant\"].values"
   ]
  },
  {
   "cell_type": "markdown",
   "metadata": {},
   "source": [
    "Ora dobbiamo dividere ogni array in due array distinti, uno per l’addestramento e uno per il test. Questa divisione serve per poter verificare le reali capacità predittive del modello, testandolo su dati che non ha già visto durante la fase di addestramento.\n",
    "L’overfitting di cui abbiamo accennato all’inizio è la condizione in cui il modello memorizza i dati di addestramento piuttosto che apprendere da essi, avere un set di test separato ci permette di identificare questa situazione.\n",
    "Creiamo una funzione train_test_split per eseguire questa divisione:"
   ]
  },
  {
   "cell_type": "code",
   "execution_count": 4,
   "metadata": {},
   "outputs": [],
   "source": [
    "import numpy as np\n",
    "\n",
    "def train_test_split(X, y, test_size=0.3, random_state=None):\n",
    "\n",
    "      if(random_state!=None):\n",
    "        np.random.seed(random_state)\n",
    "\n",
    "      n = X.shape[0]\n",
    "\n",
    "      test_indices = np.random.choice(n, int(n*test_size), replace=False) # selezioniamo gli indici degli esempi per il test set\n",
    "\n",
    "      # estraiamo gli esempi del test set\n",
    "      # in base agli indici\n",
    "\n",
    "      X_test = X[test_indices]\n",
    "      y_test = y[test_indices]\n",
    "\n",
    "      # creiamo il train set\n",
    "      # rimuovendo gli esempi del test set\n",
    "      # in base agli indici\n",
    "\n",
    "      X_train = np.delete(X, test_indices, axis=0)\n",
    "      y_train = np.delete(y, test_indices, axis=0)\n",
    "\n",
    "      return (X_train, X_test, y_train, y_test )\n",
    "\n",
    "\n",
    "X_train, X_test, y_train, y_test  = train_test_split(X, y, test_size=0.3)"
   ]
  },
  {
   "cell_type": "markdown",
   "metadata": {},
   "source": [
    "Abbiamo assegnato il 30% degli esempi del dataset al set di test, quindi abbiamo 395 esempi per l’addestramento e 168 per il test, sono un po’ pochi per l’addestramento di una rete neurale, ma trattandosi di un modello con un solo strato nascosto possono andare bene.\n",
    "E’ buona norma portare le features in un range di valori comune, questo può velocizzare anche di tanto la fase di addestramento.\n",
    "Utilizziamo la normalizzazione, che si esegue sottraendo il valore minore e dividendo per la differenza tra il valore maggiore e il valore minore:\n",
    "\n",
    "$$ X_{norm} = \\frac{X-X_{min}}{X_{max}-X_{min}} $$\n",
    "\n",
    "Ricorda che dobbiamo sempre applicare le stesse trasformazioni ai dati di addestramento, a quelli di test, e in generale a tutti quelli che daremo in pasto alla nostra rete neurale, quindi calcoliamo massimo e minimo sul set di addestramento e usiamo questi valori per la normalizzazione di entrambi gli array."
   ]
  },
  {
   "cell_type": "code",
   "execution_count": 5,
   "metadata": {},
   "outputs": [],
   "source": [
    "X_max = X_train.max(axis=0)\n",
    "X_min = X_train.min(axis=0)\n",
    "\n",
    "X_train = (X_train - X_min)/(X_max-X_min)\n",
    "X_test = (X_test - X_min)/(X_max-X_min)"
   ]
  },
  {
   "cell_type": "markdown",
   "metadata": {},
   "source": [
    "Perfetto ! Adesso importiamo la nostra classe *NeuralNetwork* e creiamo la nostra rete con 10 nodi sullo strato nascosto, addestriamola sul set di addestramento per 500 epoche e valutiamola sul set di test."
   ]
  },
  {
   "cell_type": "code",
   "execution_count": 12,
   "metadata": {},
   "outputs": [
    {
     "data": {
      "text/plain": [
       "(0.9642857142857143, 0.08487508700240488)"
      ]
     },
     "execution_count": 12,
     "metadata": {},
     "output_type": "execute_result"
    }
   ],
   "source": [
    "model = NeuralNetwork()\n",
    "model.fit(X_train, y_train, epochs=500, lr=0.01)\n",
    "model.evaluate(X_test, y_test)"
   ]
  },
  {
   "cell_type": "markdown",
   "metadata": {},
   "source": [
    "Dato che i pesi vengono inizializzati a valori casuali il risultato può lievemente variare tra diverse esecuzioni della rete."
   ]
  },
  {
   "cell_type": "markdown",
   "metadata": {},
   "source": [
    "## Bene ! E ora ?\n",
    "Mettiamo caso di ricevere i risultati di 6 nuovi esami radiografici, le features estratte da questi ci vengono consegnate all’interno di un file csv, carichiamolo con pandas, estraiamolo le features e normalizziamole"
   ]
  },
  {
   "cell_type": "code",
   "execution_count": 6,
   "metadata": {},
   "outputs": [],
   "source": [
    "exams_df = pd.read_csv(\"https://raw.githubusercontent.com/ProfAI/tutorials/master/Come%20Creare%20una%20Rete%20Neurale%20da%20Zero/exam%20results.csv\")\n",
    "\n",
    "X_new = exams_df.values\n",
    "X_new = (X_new - X_min)/(X_max-X_min)"
   ]
  },
  {
   "cell_type": "markdown",
   "metadata": {},
   "source": [
    "Ora utilizziamo il metodo predict per classificare i risultati di tali esami, in modo da identificare eventuali tumori maligni, ottenendo anche la probabilità."
   ]
  },
  {
   "cell_type": "code",
   "execution_count": 10,
   "metadata": {},
   "outputs": [],
   "source": [
    "y_pred, y_proba = model.predict(X_new, return_proba=True)"
   ]
  },
  {
   "cell_type": "markdown",
   "metadata": {},
   "source": [
    "Stampiamo il risultato"
   ]
  },
  {
   "cell_type": "code",
   "execution_count": 11,
   "metadata": {},
   "outputs": [
    {
     "name": "stdout",
     "output_type": "stream",
     "text": [
      "Risultato 1 = benigno (0.0000)\n",
      "Risultato 2 = maligno (0.9974)\n",
      "Risultato 3 = maligno (0.9991)\n",
      "Risultato 4 = benigno (0.0156)\n",
      "Risultato 5 = maligno (0.9652)\n",
      "Risultato 6 = benigno (0.0165)\n"
     ]
    }
   ],
   "source": [
    "classes = [\"benigno\", \"maligno\"]\n",
    "\n",
    "for i, (pred, proba) in enumerate(zip(y_pred, y_proba)):\n",
    "  print(\"Risultato %d = %s (%.4f)\" % (i+1, classes[int(pred)], proba))"
   ]
  },
  {
   "cell_type": "markdown",
   "metadata": {},
   "source": [
    "Quando la probabilità associata non è alta andrebbero eseguiti ulteriori esami di verifica, specialmente nel caso di un tumore classificato come benigno, dato che classificare erroneamente un tumore maligno come benigno è molto più grave che classificare un tumore benigno come maligno. Come abbiamo visto in questo tutorial, in questi casi è opportuno utilizzare anche la matrice di confusione come metrica per valutare il modello."
   ]
  }
 ],
 "metadata": {
  "kernelspec": {
   "display_name": "base",
   "language": "python",
   "name": "base"
  },
  "language_info": {
   "codemirror_mode": {
    "name": "ipython",
    "version": 3
   },
   "file_extension": ".py",
   "mimetype": "text/x-python",
   "name": "python",
   "nbconvert_exporter": "python",
   "pygments_lexer": "ipython3",
   "version": "3.7.3"
  }
 },
 "nbformat": 4,
 "nbformat_minor": 2
}
