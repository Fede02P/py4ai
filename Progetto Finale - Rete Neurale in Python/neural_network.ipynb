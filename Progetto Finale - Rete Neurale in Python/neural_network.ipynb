{
  "nbformat": 4,
  "nbformat_minor": 0,
  "metadata": {
    "kernelspec": {
      "display_name": "base",
      "language": "python",
      "name": "base"
    },
    "language_info": {
      "codemirror_mode": {
        "name": "ipython",
        "version": 3
      },
      "file_extension": ".py",
      "mimetype": "text/x-python",
      "name": "python",
      "nbconvert_exporter": "python",
      "pygments_lexer": "ipython3",
      "version": "3.7.3"
    },
    "colab": {
      "name": "neural_network.ipynb",
      "provenance": []
    }
  },
  "cells": [
    {
      "cell_type": "markdown",
      "metadata": {
        "id": "BlO2f6PrQl73",
        "colab_type": "text"
      },
      "source": [
        "# Reti Neurali con Python e Numpy"
      ]
    },
    {
      "cell_type": "markdown",
      "metadata": {
        "id": "fVcUjIaoQl74",
        "colab_type": "text"
      },
      "source": [
        "## Classe per una Rete Neurale\n",
        "Il processo di creazione di questa rete neurale è descritto passo passo in [questo articolo sul blog di ProfessionAI](http://blog.profession.ai/creare-una-rete-neurale-artificiale-da-zero/)"
      ]
    },
    {
      "cell_type": "code",
      "metadata": {
        "id": "iNwxsKRkQl74",
        "colab_type": "code",
        "colab": {
          "base_uri": "https://localhost:8080/",
          "height": 154
        },
        "outputId": "35cbdf76-1fcb-456f-f94f-cfb0d3ccb4ca"
      },
      "source": [
        "import numpy as np\n",
        "\n",
        "class NeuralNetwork:\n",
        "\n",
        "  \"\"\"\n",
        "  Questa classe rappresenta una Rete Neurale Artificiale\n",
        "  per eseguire l'addestramento usare .fit(X, y)\n",
        "  per eseguire delle predizioni usare .predict(X)\n",
        "  \"\"\"\n",
        "  \n",
        "  \n",
        "  def __init__(self, hidden_layer_size=100):\n",
        "\n",
        "    \"\"\"Costruttore della classe\n",
        "\n",
        "    Args:\n",
        "      hiddel_layer_size (int, optional): numero di nodi nello strato nascosto\n",
        "    \"\"\"\n",
        "\n",
        "    self.hidden_layer_size=hidden_layer_size\n",
        "    \n",
        "    \n",
        "  def _init_weights(self, input_size, hidden_size):\n",
        "\n",
        "    \"\"\"Inizializzazione dei pesi\n",
        "\n",
        "    Questa funzione inizializza i pesi a valori casuali\n",
        "    e i bias a zero\n",
        "\n",
        "    Args:\n",
        "      input_size (int): numero di nodi nello strato di input\n",
        "      hidden_size (int): numreo di nodi nello strato nascosto\n",
        "    \"\"\"\n",
        "\n",
        "    self._W1 = np.random.randn(input_size, hidden_size)\n",
        "    self._b1 = np.zeros(hidden_size)\n",
        "    self._W2 = np.random.randn(hidden_size,1)\n",
        "    self._b2 = np.zeros(1)\n",
        "\n",
        "    \n",
        "  def _accuracy(self, y_true, y_pred):\n",
        "\n",
        "    \"\"\"Calcolo dell'accuracy\n",
        "\n",
        "    L'accuracy è una funzione di costo che ritorna\n",
        "    la percentuale di classificazioni eseguite correttamente\n",
        "\n",
        "    Args:\n",
        "      y_true (ndarray): valori corretti delle osservazioni\n",
        "      y_pred (ndarray): predizioni fornite dalla rete\n",
        "\n",
        "    Returns:\n",
        "      (float): valore dell'accuracy\n",
        "    \"\"\"\n",
        "\n",
        "    return np.sum(y_true==y_pred)/len(y)\n",
        "  \n",
        "  \n",
        "  def _log_loss(self, y_true, y_proba):\n",
        "\n",
        "    \"\"\"Calcolo della log loss\n",
        "    \n",
        "    La Log Loss (o Cross Entropy) è una funzione di costo\n",
        "    che tiene conto anche della probabilità\n",
        "\n",
        "    Args:\n",
        "      y_true (ndarray): valori corretti delle osservazioni\n",
        "      y_prob (ndarray): output della rete in forma di probabilità\n",
        "\n",
        "    Returns_\n",
        "      (float): valore della log loss\n",
        "    \"\"\"\n",
        "\n",
        "    return -np.sum(np.multiply(y_true,np.log(y_proba))+np.multiply((1.0001-y_true),np.log(1.0001-y_proba)))/len(y_true)\n",
        "  \n",
        "  \n",
        "  def _relu(self, Z):\n",
        "\n",
        "    \"\"\"Calcolo della ReLu\n",
        "\n",
        "    La ReLu è una funzione di attivazione\n",
        "    principalmente utilizzata per gli strati nascosti\n",
        "\n",
        "    Args:\n",
        "      Z (ndarray): output lineare di uno strato\n",
        "    \n",
        "    Returns:\n",
        "      (ndarray): output post-attivazione dello strato\n",
        "    \"\"\"\n",
        "\n",
        "    return np.maximum(Z, 0)\n",
        "\n",
        "  \n",
        "  def _sigmoid(self, Z):\n",
        "\n",
        "    \"\"\"Calcolo della Sigmoide\n",
        "\n",
        "    La Sigmoide è una funzione di attivazione\n",
        "    utilizzata negli strati di output per problemi\n",
        "    di classificazione binaria\n",
        "\n",
        "    Args:\n",
        "      Z (ndarray): output lineare di uno strato\n",
        "    \n",
        "    Returns:\n",
        "      (ndarray): output post-attivazione dello strato\n",
        "    \"\"\"\n",
        "\n",
        "    return 1/(1+np.power(np.e,-Z))\n",
        "  \n",
        "  \n",
        "  def _relu_derivative(self, Z):\n",
        "\n",
        "    \"\"\"Calcolo della derivata della ReLu\n",
        "\n",
        "    La derivata della Relu è necessaria\n",
        "    per eseguire la backpropagation\n",
        "\n",
        "    Args:\n",
        "      Z (ndarray): output lineare di uno strato\n",
        "    \n",
        "    Returns:\n",
        "      (ndarray): derivate parziali della ReLu rispetto a Z\n",
        "    \"\"\"\n",
        "\n",
        "    dZ = np.zeros(Z.shape)\n",
        "    dZ[Z>0] = 1\n",
        "    return dZ\n",
        "    \n",
        "               \n",
        "  def _forward_propagation(self, X):\n",
        "\n",
        "    \"\"\" Funzione che esegue la Propagazione in avanti\n",
        "\n",
        "    Args:\n",
        "      X (ndarray): matrice con le features degli esempi\n",
        "    \n",
        "    Returns:\n",
        "      A2 (ndarray): vettore con l'output della rete\n",
        "    \"\"\"\n",
        "                     \n",
        "    Z1 = np.dot(X,self._W1)+self._b1\n",
        "\n",
        "    A1 = self._relu(Z1)\n",
        "    Z2 = np.dot(A1,self._W2)+self._b2\n",
        "    A2 = self._sigmoid(Z2)\n",
        "    \n",
        "    self._forward_cache = (Z1, A1, Z2, A2)\n",
        "\n",
        "    return A2.ravel()\n",
        "\n",
        "\n",
        "  def predict(self, X, return_proba=False):\n",
        "\n",
        "      \"\"\" Funzione che esegue la predizione\n",
        "\n",
        "      Args:\n",
        "        X (ndarray): matrice con le features degli esempi\n",
        "        return_proba (bool, optional): se True la funzione ritorna\n",
        "          anche le probabilità\n",
        "\n",
        "      Returns:\n",
        "        y (ndarray): array con le predizioni della rete\n",
        "        proba (ndarray, optional): array con l'output dello strato di output\n",
        "      \"\"\"\n",
        "\n",
        "      proba = self._forward_propagation(X)\n",
        "\n",
        "      y = np.zeros(X.shape[0])\n",
        "      y[proba>=0.5]=1\n",
        "      y[proba<0.5]=0\n",
        "\n",
        "      if(return_proba):\n",
        "        return (y, proba)\n",
        "      else:\n",
        "        return y\n",
        "                            \n",
        "      \n",
        "  def _back_propagation(self, X, y):\n",
        "\n",
        "    \"\"\" Funzione che esegue la Backpropagation\n",
        "\n",
        "    Args:\n",
        "        X (ndarray): matrice con le features degli esempi\n",
        "        y (ndarray): vettore cone il target degli esempi\n",
        "  \n",
        "    Returns:\n",
        "       dW1 (ndarray): derivate parziali della funzione di costo\n",
        "           rispetto ai pesi dello strato di input\n",
        "       db1 (ndarray): derivate parziali della funzione di costo\n",
        "           rispetto ai bias dello strato di input\n",
        "       dW2 (ndarray): derivate parziali della funzione di costo\n",
        "           rispetto ai pesi dello strato nascosto\n",
        "       db2 (ndarray): derivate parziali della funzione di costo\n",
        "           rispetto ai bias dello strato nascosto\n",
        "    \"\"\"\n",
        "\n",
        "    Z1, A1, Z2, A2 = self._forward_cache\n",
        "                   \n",
        "    m = A1.shape[1]\n",
        "\n",
        "    print(m)\n",
        "    \n",
        "    dZ2 = A2-y.reshape(-1,1)\n",
        "    dW2 = np.dot(A1.T, dZ2)/m\n",
        "    db2 = np.sum(dZ2, axis=0)/m\n",
        "\n",
        "    dZ1 = np.dot(dZ2, self._W2.T)*self._relu_derivative(Z1)\n",
        "    dW1 = np.dot(X.T, dZ1)/m\n",
        "    db1 = np.sum(dZ1, axis=0)/m\n",
        "    \n",
        "    return dW1, db1, dW2, db2\n",
        "           \n",
        "               \n",
        "  def fit(self, X, y, epochs=200, lr=0.01):\n",
        "\n",
        "    \"\"\"Funzione che esegue il Gradient Descent\n",
        "\n",
        "    Args:\n",
        "        X (ndarray): matrice con le features degli esempi\n",
        "        y (ndarray): vettore cone il target degli esempi\n",
        "        epochs (int, optional): numero di epoche per il gradient descent\n",
        "        lr (float, optional): valore del learning rate\n",
        "    \"\"\"\n",
        "\n",
        "    self._init_weights(X.shape[1], self.hidden_layer_size)\n",
        "      \n",
        "    for _ in range(epochs):\n",
        "      Y = self._forward_propagation(X)\n",
        "      dW1, db1, dW2, db2 = self._back_propagation(X, y)\n",
        "      self._W1-=lr*dW1\n",
        "      self._b1-=lr*db1\n",
        "      self._W2-=lr*dW2\n",
        "      self._b2-=lr*db2\n",
        "               \n",
        "\n",
        "  def evaluate(self, X, y):\n",
        "\n",
        "    \"\"\"Funzione che valuta la rete calcolando le metriche\n",
        "\n",
        "    Args:\n",
        "        X (ndarray): matrice con le features degli esempi\n",
        "        y (ndarray): vettore cone il target degli esempi\n",
        "\n",
        "    Returns:\n",
        "       (float): valore dell'Accuracy\n",
        "       (float): valore della Log Loss\n",
        "\n",
        "    y_pred, proba = self.predict(X, return_proba=True)\n",
        "    accuracy = self._accuracy(y, y_pred)\n",
        "    log_loss = self._log_loss(y, proba)\n",
        "    return (accuracy, log_loss)"
      ],
      "execution_count": 3,
      "outputs": [
        {
          "output_type": "error",
          "ename": "SyntaxError",
          "evalue": "ignored",
          "traceback": [
            "\u001b[0;36m  File \u001b[0;32m\"<ipython-input-3-16d1c71897dd>\"\u001b[0;36m, line \u001b[0;32m252\u001b[0m\n\u001b[0;31m    return (accuracy, log_loss)\u001b[0m\n\u001b[0m                               \n^\u001b[0m\n\u001b[0;31mSyntaxError\u001b[0m\u001b[0;31m:\u001b[0m EOF while scanning triple-quoted string literal\n"
          ]
        }
      ]
    },
    {
      "cell_type": "markdown",
      "metadata": {
        "id": "WALDJIhaQl76",
        "colab_type": "text"
      },
      "source": [
        "## Testiamo la Rete Neurale\n",
        "Testiamo la nostra rete neurale su un problema abbastanza semplice, distinguere immagini di 1 da immagini di 0. Ho estratto dal [MNIST dataset](http://yann.lecun.com/exdb/mnist/), un popolare dataset di immagini di cifre scritte a mano, immagini di 0 e 1. Le immagini si trovano all'interno della cartella mnist, in due sottocartelle specifiche per le due classi.Possiamo aprire un'immagine utilizzando la libreria PIL e visualizzarla con la funzione *imshow* di Matplotlib."
      ]
    },
    {
      "cell_type": "code",
      "metadata": {
        "id": "GJbJfypeQl76",
        "colab_type": "code",
        "colab": {
          "base_uri": "https://localhost:8080/",
          "height": 354
        },
        "outputId": "e78712da-7d11-4693-dc37-95073ffa9219"
      },
      "source": [
        "from PIL import Image\n",
        "from matplotlib.pyplot import imshow\n",
        "\n",
        "img = Image.open(\"mnist/0/1.jpg\")\n",
        "imshow(img)"
      ],
      "execution_count": 2,
      "outputs": [
        {
          "output_type": "error",
          "ename": "FileNotFoundError",
          "evalue": "ignored",
          "traceback": [
            "\u001b[0;31m---------------------------------------------------------------------------\u001b[0m",
            "\u001b[0;31mFileNotFoundError\u001b[0m                         Traceback (most recent call last)",
            "\u001b[0;32m<ipython-input-2-b31609f86006>\u001b[0m in \u001b[0;36m<module>\u001b[0;34m()\u001b[0m\n\u001b[1;32m      2\u001b[0m \u001b[0;32mfrom\u001b[0m \u001b[0mmatplotlib\u001b[0m\u001b[0;34m.\u001b[0m\u001b[0mpyplot\u001b[0m \u001b[0;32mimport\u001b[0m \u001b[0mimshow\u001b[0m\u001b[0;34m\u001b[0m\u001b[0;34m\u001b[0m\u001b[0m\n\u001b[1;32m      3\u001b[0m \u001b[0;34m\u001b[0m\u001b[0m\n\u001b[0;32m----> 4\u001b[0;31m \u001b[0mimg\u001b[0m \u001b[0;34m=\u001b[0m \u001b[0mImage\u001b[0m\u001b[0;34m.\u001b[0m\u001b[0mopen\u001b[0m\u001b[0;34m(\u001b[0m\u001b[0;34m\"mnist/0/1.jpg\"\u001b[0m\u001b[0;34m)\u001b[0m\u001b[0;34m\u001b[0m\u001b[0;34m\u001b[0m\u001b[0m\n\u001b[0m\u001b[1;32m      5\u001b[0m \u001b[0mimshow\u001b[0m\u001b[0;34m(\u001b[0m\u001b[0mimg\u001b[0m\u001b[0;34m)\u001b[0m\u001b[0;34m\u001b[0m\u001b[0;34m\u001b[0m\u001b[0m\n",
            "\u001b[0;32m/usr/local/lib/python3.6/dist-packages/PIL/Image.py\u001b[0m in \u001b[0;36mopen\u001b[0;34m(fp, mode)\u001b[0m\n\u001b[1;32m   2528\u001b[0m \u001b[0;34m\u001b[0m\u001b[0m\n\u001b[1;32m   2529\u001b[0m     \u001b[0;32mif\u001b[0m \u001b[0mfilename\u001b[0m\u001b[0;34m:\u001b[0m\u001b[0;34m\u001b[0m\u001b[0;34m\u001b[0m\u001b[0m\n\u001b[0;32m-> 2530\u001b[0;31m         \u001b[0mfp\u001b[0m \u001b[0;34m=\u001b[0m \u001b[0mbuiltins\u001b[0m\u001b[0;34m.\u001b[0m\u001b[0mopen\u001b[0m\u001b[0;34m(\u001b[0m\u001b[0mfilename\u001b[0m\u001b[0;34m,\u001b[0m \u001b[0;34m\"rb\"\u001b[0m\u001b[0;34m)\u001b[0m\u001b[0;34m\u001b[0m\u001b[0;34m\u001b[0m\u001b[0m\n\u001b[0m\u001b[1;32m   2531\u001b[0m         \u001b[0mexclusive_fp\u001b[0m \u001b[0;34m=\u001b[0m \u001b[0;32mTrue\u001b[0m\u001b[0;34m\u001b[0m\u001b[0;34m\u001b[0m\u001b[0m\n\u001b[1;32m   2532\u001b[0m \u001b[0;34m\u001b[0m\u001b[0m\n",
            "\u001b[0;31mFileNotFoundError\u001b[0m: [Errno 2] No such file or directory: 'mnist/0/1.jpg'"
          ]
        }
      ]
    },
    {
      "cell_type": "markdown",
      "metadata": {
        "id": "2Ojdi4MkQl79",
        "colab_type": "text"
      },
      "source": [
        "Nel caso di un'immagine le features della rete neurale saranno i pixel che la compongono, per poterli utilizzare dobbiamo srotolare la matriche di pixel in un unico vettore, questo processo è chiamato flattening. Utilizziamo la libreria PIL di Python per caricare ogni immagine all'interno di un ciclo, convertiamola in un array numpy, eseguiamo il flattening e aggiungiamo il vettore risultate alla matrice di features."
      ]
    },
    {
      "cell_type": "code",
      "metadata": {
        "id": "ejdufRJwQl79",
        "colab_type": "code",
        "colab": {}
      },
      "source": [
        "import numpy as np\n",
        "from os import listdir\n",
        "\n",
        "labels = [0,1]\n",
        "\n",
        "X = np.array([])\n",
        "y = np.array([])\n",
        "\n",
        "for label in labels:\n",
        "    for f in listdir(\"mnist/%d\" % label):\n",
        "        if(\".jpg\" in f):\n",
        "            img = Image.open(\"mnist/%d/%s\" % (label, f))\n",
        "            x = np.array(img)\n",
        "            x = x.reshape(1,28*28)\n",
        "            if(X.size==0):\n",
        "                X = x\n",
        "            else:\n",
        "                X = np.concatenate((X,x))\n",
        "            y = np.append(y,label) "
      ],
      "execution_count": 0,
      "outputs": []
    },
    {
      "cell_type": "markdown",
      "metadata": {
        "id": "AopLJryPQl7_",
        "colab_type": "text"
      },
      "source": [
        "Ora dobbiamo dividere gli array per l’addestramento e per il test. Questa divisione serve per poter verificare le reali capacità predittive del modello, testandolo su dati che non ha già visto durante la fase di addestramento. L’overfitting di cui abbiamo accennato all’inizio è la condizione in cui il modello memorizza i dati di addestramento piuttosto che apprendere da essi, avere un set di test separato ci permette di identificare questa situazione. Creiamo una funzione train_test_split per eseguire questa divisione:"
      ]
    },
    {
      "cell_type": "code",
      "metadata": {
        "id": "KGtqcYb4Ql7_",
        "colab_type": "code",
        "colab": {}
      },
      "source": [
        "def train_test_split(X, y, test_size=0.3, random_state=None):\n",
        "\n",
        "      if(random_state!=None):\n",
        "        np.random.seed(random_state)\n",
        "\n",
        "      n = X.shape[0]\n",
        "\n",
        "      test_indices = np.random.choice(n, int(n*test_size), replace=False) # selezioniamo gli indici degli esempi per il test set\n",
        "\n",
        "      # estraiamo gli esempi del test set\n",
        "      # in base agli indici\n",
        "\n",
        "      X_test = X[test_indices]\n",
        "      y_test = y[test_indices]\n",
        "\n",
        "      # creiamo il train set\n",
        "      # rimuovendo gli esempi del test set\n",
        "      # in base agli indici\n",
        "\n",
        "      X_train = np.delete(X, test_indices, axis=0)\n",
        "      y_train = np.delete(y, test_indices, axis=0)\n",
        "\n",
        "      return (X_train, X_test, y_train, y_test )\n",
        "\n",
        "\n",
        "X_train, X_test, y_train, y_test  = train_test_split(X, y, test_size=0.3)"
      ],
      "execution_count": 0,
      "outputs": []
    },
    {
      "cell_type": "markdown",
      "metadata": {
        "id": "TXhj7Cw0Ql8B",
        "colab_type": "text"
      },
      "source": [
        "Normalizziamo le features, in modo tale da fare in modo che ogni feature sia in una scala da 0 a 1, dividendo la matrice per 255, cioè il valore massimo possible per un pixel."
      ]
    },
    {
      "cell_type": "code",
      "metadata": {
        "id": "8YIFjG3wQl8B",
        "colab_type": "code",
        "colab": {}
      },
      "source": [
        "X = X/255."
      ],
      "execution_count": 0,
      "outputs": []
    },
    {
      "cell_type": "markdown",
      "metadata": {
        "id": "kiPSA6VhQl8D",
        "colab_type": "text"
      },
      "source": [
        "Perfetto ! Adesso creiamo la nostra rete con 10 nodi sullo strato nascosto, addestriamola sul set di addestramento per 500 epoche e valutiamola sul set di test. "
      ]
    },
    {
      "cell_type": "code",
      "metadata": {
        "id": "BvCLePVCQl8D",
        "colab_type": "code",
        "colab": {},
        "outputId": "f0ae90ac-2446-4d57-9382-099184a285a3"
      },
      "source": [
        "model = NeuralNetwork()\n",
        "model.fit(X_train, y_train, epochs=500, lr=0.01)\n",
        "model.evaluate(X_test, y_test)"
      ],
      "execution_count": 0,
      "outputs": [
        {
          "output_type": "execute_result",
          "data": {
            "text/plain": [
              "(0.9966666666666667, 0.020215191704476693)"
            ]
          },
          "metadata": {
            "tags": []
          },
          "execution_count": 100
        }
      ]
    },
    {
      "cell_type": "markdown",
      "metadata": {
        "id": "v-5FLYl4Ql8F",
        "colab_type": "text"
      },
      "source": [
        "\n",
        "Dato che i pesi vengono inizializzati a valori casuali il risultato può lievemente variare tra diverse esecuzioni della rete. Nel mio caso l'accuracy è del 99.7%, questo vuol dire che il nostro modello ha classificato correttamente il 99.7% delle immagini nel set test, un'ottimo risultato ! Utilizziamo matplotlib con la funzione *imshow* per stampare alcune immagini e vedere come sono state classificate dalla rete."
      ]
    },
    {
      "cell_type": "code",
      "metadata": {
        "id": "8s9ub0_9Ql8F",
        "colab_type": "code",
        "colab": {},
        "outputId": "60923469-4ad6-49e9-d500-5504c72ecd23"
      },
      "source": [
        "for i in range(0,20):\n",
        "    print(\"Immagine classificata come %d\" % y_test[i])\n",
        "    plt.imshow(X_test[i].reshape(28,28))\n",
        "    plt.show()"
      ],
      "execution_count": 0,
      "outputs": [
        {
          "output_type": "stream",
          "text": [
            "Immagine classificata come 1\n"
          ],
          "name": "stdout"
        },
        {
          "output_type": "display_data",
          "data": {
            "image/png": "[encoded data removed]",
            "text/plain": [
              "<Figure size 432x288 with 1 Axes>"
            ]
          },
          "metadata": {
            "tags": [],
            "needs_background": "light"
          }
        },
        {
          "output_type": "stream",
          "text": [
            "Immagine classificata come 1\n"
          ],
          "name": "stdout"
        },
        {
          "output_type": "display_data",
          "data": {
            "image/png": "[encoded data removed]",
            "text/plain": [
              "<Figure size 432x288 with 1 Axes>"
            ]
          },
          "metadata": {
            "tags": [],
            "needs_background": "light"
          }
        },
        {
          "output_type": "stream",
          "text": [
            "Immagine classificata come 1\n"
          ],
          "name": "stdout"
        },
        {
          "output_type": "display_data",
          "data": {
            "image/png": "[encoded data removed]",
            "text/plain": [
              "<Figure size 432x288 with 1 Axes>"
            ]
          },
          "metadata": {
            "tags": [],
            "needs_background": "light"
          }
        },
        {
          "output_type": "stream",
          "text": [
            "Immagine classificata come 0\n"
          ],
          "name": "stdout"
        },
        {
          "output_type": "display_data",
          "data": {
            "image/png": "[encoded data removed]",
            "text/plain": [
              "<Figure size 432x288 with 1 Axes>"
            ]
          },
          "metadata": {
            "tags": [],
            "needs_background": "light"
          }
        },
        {
          "output_type": "stream",
          "text": [
            "Immagine classificata come 1\n"
          ],
          "name": "stdout"
        },
        {
          "output_type": "display_data",
          "data": {
            "image/png": "[encoded data removed]",
            "text/plain": [
              "<Figure size 432x288 with 1 Axes>"
            ]
          },
          "metadata": {
            "tags": [],
            "needs_background": "light"
          }
        },
        {
          "output_type": "stream",
          "text": [
            "Immagine classificata come 0\n"
          ],
          "name": "stdout"
        },
        {
          "output_type": "display_data",
          "data": {
            "image/png": "[encoded data removed]",
            "text/plain": [
              "<Figure size 432x288 with 1 Axes>"
            ]
          },
          "metadata": {
            "tags": [],
            "needs_background": "light"
          }
        },
        {
          "output_type": "stream",
          "text": [
            "Immagine classificata come 1\n"
          ],
          "name": "stdout"
        },
        {
          "output_type": "display_data",
          "data": {
            "image/png": "[encoded data removed]",
            "text/plain": [
              "<Figure size 432x288 with 1 Axes>"
            ]
          },
          "metadata": {
            "tags": [],
            "needs_background": "light"
          }
        },
        {
          "output_type": "stream",
          "text": [
            "Immagine classificata come 0\n"
          ],
          "name": "stdout"
        },
        {
          "output_type": "display_data",
          "data": {
            "image/png": "[encoded data removed]",
            "text/plain": [
              "<Figure size 432x288 with 1 Axes>"
            ]
          },
          "metadata": {
            "tags": [],
            "needs_background": "light"
          }
        },
        {
          "output_type": "stream",
          "text": [
            "Immagine classificata come 0\n"
          ],
          "name": "stdout"
        },
        {
          "output_type": "display_data",
          "data": {
            "image/png": "[encoded data removed]",
            "text/plain": [
              "<Figure size 432x288 with 1 Axes>"
            ]
          },
          "metadata": {
            "tags": [],
            "needs_background": "light"
          }
        },
        {
          "output_type": "stream",
          "text": [
            "Immagine classificata come 1\n"
          ],
          "name": "stdout"
        },
        {
          "output_type": "display_data",
          "data": {
            "image/png": "[encoded data removed]",
            "text/plain": [
              "<Figure size 432x288 with 1 Axes>"
            ]
          },
          "metadata": {
            "tags": [],
            "needs_background": "light"
          }
        },
        {
          "output_type": "stream",
          "text": [
            "Immagine classificata come 1\n"
          ],
          "name": "stdout"
        },
        {
          "output_type": "display_data",
          "data": {
            "image/png": "[encoded data removed]",
            "text/plain": [
              "<Figure size 432x288 with 1 Axes>"
            ]
          },
          "metadata": {
            "tags": [],
            "needs_background": "light"
          }
        },
        {
          "output_type": "stream",
          "text": [
            "Immagine classificata come 0\n"
          ],
          "name": "stdout"
        },
        {
          "output_type": "display_data",
          "data": {
            "image/png": "[encoded data removed]",
            "text/plain": [
              "<Figure size 432x288 with 1 Axes>"
            ]
          },
          "metadata": {
            "tags": [],
            "needs_background": "light"
          }
        },
        {
          "output_type": "stream",
          "text": [
            "Immagine classificata come 1\n"
          ],
          "name": "stdout"
        },
        {
          "output_type": "display_data",
          "data": {
            "image/png": "[encoded data removed]",
            "text/plain": [
              "<Figure size 432x288 with 1 Axes>"
            ]
          },
          "metadata": {
            "tags": [],
            "needs_background": "light"
          }
        },
        {
          "output_type": "stream",
          "text": [
            "Immagine classificata come 0\n"
          ],
          "name": "stdout"
        },
        {
          "output_type": "display_data",
          "data": {
            "image/png": "[encoded data removed]",
            "text/plain": [
              "<Figure size 432x288 with 1 Axes>"
            ]
          },
          "metadata": {
            "tags": [],
            "needs_background": "light"
          }
        },
        {
          "output_type": "stream",
          "text": [
            "Immagine classificata come 1\n"
          ],
          "name": "stdout"
        },
        {
          "output_type": "display_data",
          "data": {
            "image/png": "[encoded data removed]",
            "text/plain": [
              "<Figure size 432x288 with 1 Axes>"
            ]
          },
          "metadata": {
            "tags": [],
            "needs_background": "light"
          }
        },
        {
          "output_type": "stream",
          "text": [
            "Immagine classificata come 1\n"
          ],
          "name": "stdout"
        },
        {
          "output_type": "display_data",
          "data": {
            "image/png": "[encoded data removed]",
            "text/plain": [
              "<Figure size 432x288 with 1 Axes>"
            ]
          },
          "metadata": {
            "tags": [],
            "needs_background": "light"
          }
        },
        {
          "output_type": "stream",
          "text": [
            "Immagine classificata come 1\n"
          ],
          "name": "stdout"
        },
        {
          "output_type": "display_data",
          "data": {
            "image/png": "[encoded data removed]",
            "text/plain": [
              "<Figure size 432x288 with 1 Axes>"
            ]
          },
          "metadata": {
            "tags": [],
            "needs_background": "light"
          }
        },
        {
          "output_type": "stream",
          "text": [
            "Immagine classificata come 0\n"
          ],
          "name": "stdout"
        },
        {
          "output_type": "display_data",
          "data": {
            "image/png": "[encoded data removed]",
            "text/plain": [
              "<Figure size 432x288 with 1 Axes>"
            ]
          },
          "metadata": {
            "tags": [],
            "needs_background": "light"
          }
        },
        {
          "output_type": "stream",
          "text": [
            "Immagine classificata come 1\n"
          ],
          "name": "stdout"
        },
        {
          "output_type": "display_data",
          "data": {
            "image/png": "[encoded data removed]",
            "text/plain": [
              "<Figure size 432x288 with 1 Axes>"
            ]
          },
          "metadata": {
            "tags": [],
            "needs_background": "light"
          }
        },
        {
          "output_type": "stream",
          "text": [
            "Immagine classificata come 0\n"
          ],
          "name": "stdout"
        },
        {
          "output_type": "display_data",
          "data": {
            "image/png": "[encoded data removed]",
            "text/plain": [
              "<Figure size 432x288 with 1 Axes>"
            ]
          },
          "metadata": {
            "tags": [],
            "needs_background": "light"
          }
        }
      ]
    }
  ]
}