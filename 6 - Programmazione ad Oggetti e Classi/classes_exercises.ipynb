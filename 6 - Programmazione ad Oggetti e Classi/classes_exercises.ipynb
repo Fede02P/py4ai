{
  "nbformat": 4,
  "nbformat_minor": 0,
  "metadata": {
    "colab": {
      "name": "classes_exercises.ipynb",
      "provenance": [],
      "include_colab_link": true
    },
    "kernelspec": {
      "name": "python3",
      "display_name": "Python 3"
    }
  },
  "cells": [
    {
      "cell_type": "markdown",
      "metadata": {
        "id": "view-in-github",
        "colab_type": "text"
      },
      "source": [
        "<a href=\"https://colab.research.google.com/github/ProfAI/py4ai/blob/master/6%20-%20Programmazione%20ad%20Oggetti%20e%20Classi/classes_exercises.ipynb\" target=\"_parent\"><img src=\"https://colab.research.google.com/assets/colab-badge.svg\" alt=\"Open In Colab\"/></a>"
      ]
    },
    {
      "cell_type": "markdown",
      "metadata": {
        "id": "wflZvedQCLBJ",
        "colab_type": "text"
      },
      "source": [
        "# Esercizi con le Classi"
      ]
    },
    {
      "cell_type": "markdown",
      "metadata": {
        "id": "cSxUoawZD8Oh",
        "colab_type": "text"
      },
      "source": [
        "## 1. La Circonferenza"
      ]
    },
    {
      "cell_type": "code",
      "metadata": {
        "id": "lozSE4FqCIFP",
        "colab_type": "code",
        "outputId": "05775806-88ae-4c04-e4e9-9fc3012e18ce",
        "colab": {
          "base_uri": "https://localhost:8080/",
          "height": 53
        }
      },
      "source": [
        "class Circle:\n",
        "\n",
        "  def __init__(self, r):\n",
        "    self.r = r\n",
        "\n",
        "  def diameter(self):\n",
        "\n",
        "    \"\"\"\n",
        "    Calcola il diametro come 2*r\n",
        "    \"\"\"\n",
        "\n",
        "    return 2*self.r\n",
        "\n",
        "  def circumference(self):\n",
        "\n",
        "    \"\"\"\n",
        "    Calcola la circonferenza come 2*pi*r\n",
        "    \"\"\"\n",
        "\n",
        "    return 2*3.14*self.r\n",
        "\n",
        "  def area(self):\n",
        "\n",
        "    \"\"\"\n",
        "    Calcola l'area come pi*r^2\n",
        "    \"\"\"\n",
        "\n",
        "    return 3.14*(self.r**2)\n",
        "\n",
        "\n",
        "circle = Circle(1)\n",
        "print(circle.circumference())\n",
        "print(circle.area())"
      ],
      "execution_count": 0,
      "outputs": [
        {
          "output_type": "stream",
          "text": [
            "6.28\n",
            "3.14\n"
          ],
          "name": "stdout"
        }
      ]
    },
    {
      "cell_type": "markdown",
      "metadata": {
        "id": "4ZaqzSbrVpI5",
        "colab_type": "text"
      },
      "source": [
        "## 2. Vettori\n",
        "Crea una classe che rappresenti un vettore numerico. La classe accetta in input una lista di numeri che saranno i valori del vettore. La classe deve avere queste funzionalità:\n",
        "1. Stampando un'oggetto Vector il risultato sarà la lista dei suoi valori.\n",
        "2. Sommando due oggetti Vector il risultato sarà un nuovo oggetto Vector composto dalla somma dei valori dei due vettori alle posizioni corrispondenti (es. Vector([1,2,3]) + Vector([2,4,6]) = Vector([3,6,9]). \n",
        "3. Sottraendo un'oggetto Vector ad un'altro oggetto Vector il risultato sarà un nuovo oggetto Vector composto dalla differenza dei valori dei due vettori alle posizioni corrispondenti Vector([2,4,6]) + Vector([1,2,3]) = Vector([1,2,3]).\n",
        "4. Moltiplicando due oggetti Vector il risultato dovrà essere il prodotto scalare dei due vettori, il prodotto scalare è definito come la somma del prodotto dei singoli elementi corrispondenti dei due vettori (es. Vector([1,2,3]) + Vector([2,4,6]) = 28.\n",
        "\n",
        "\n",
        "Inoltre la classe deve avere i seguenti metodi:\n",
        "1. **.sum()**: ritorna la somma di tutti gli elementi del vettore.\n",
        "2. **.norm()**: ritorna la norma del vettore, cioè la radice quadrata del prodotto scalare tra il vettore e se stesso (es. Vector([10, 20, 30, 40]).norm() = 54.77)\n",
        "\n",
        "\n",
        "Inoltre la classe deve supportare l'indexing <br><br>\n",
        "es. <br>\n",
        "v = Vector([2, 4, 6])<br>\n",
        "print(v[1]) # stampa 4"
      ]
    },
    {
      "cell_type": "code",
      "metadata": {
        "id": "CNL-nXdfVr3w",
        "colab_type": "code",
        "colab": {
          "base_uri": "https://localhost:8080/",
          "height": 215
        },
        "outputId": "114b78ca-85e9-47db-d25d-cbf67ca484d7"
      },
      "source": [
        "class Vector():\n",
        "\n",
        "    def __init__(self, values):\n",
        "        self.values = values\n",
        "\n",
        "    def __getitem__(self, i):\n",
        "      return self.values[i]\n",
        "\n",
        "    def __repr__(self) :\n",
        "       return str(self.values)\n",
        "\n",
        "\n",
        "    def __add__(self, vector):\n",
        "\n",
        "      if(len(self.values)!=len(vector.values)):\n",
        "        print(\"I vettori hanno dimensioni diverse\")\n",
        "        return None\n",
        "\n",
        "      list_sum = []\n",
        "\n",
        "      for val1, val2 in zip(self.values, vector.values):\n",
        "        list_sum.append(val1+val2)\n",
        "\n",
        "      return Vector(list_sum)\n",
        "\n",
        "\n",
        "    def __sub__(self, vector):\n",
        "\n",
        "      if(len(self.values)!=len(vector.values)):\n",
        "        print(\"I vettori hanno dimensioni diverse\")\n",
        "        return None\n",
        "\n",
        "      list_sum = []\n",
        "\n",
        "      for val1, val2 in zip(self.values, vector.values):\n",
        "        list_sum.append(val1-val2)\n",
        "\n",
        "      return Vector(list_sum)\n",
        "\n",
        "\n",
        "    def __eq__(self, vector):\n",
        "\n",
        "      if(len(self.values)!=len(vector.values)):\n",
        "        print(\"I vettori hanno dimensioni diverse\")\n",
        "        return None\n",
        "\n",
        "      for val1, val2 in zip(self.values, vector.values):\n",
        "        if(val1 != val2):\n",
        "          return False\n",
        "      return True\n",
        "\n",
        "\n",
        "    def __mul__(self, vector):\n",
        "      return self.dot(vector)\n",
        "\n",
        "\n",
        "    def sum(self):\n",
        "      \n",
        "      v_sum = 0\n",
        "\n",
        "      for v in self.values:\n",
        "        v_sum+=v\n",
        "\n",
        "      return v_sum\n",
        "\n",
        "\n",
        "    def dot(self, vector):\n",
        "\n",
        "      if(len(self.values)!=len(vector.values)):\n",
        "        print(\"I vettori hanno dimensioni diverse\")\n",
        "        return None\n",
        "\n",
        "      prod = 0\n",
        "\n",
        "      for val1, val2 in zip(self.values, vector.values):\n",
        "        prod+=val1*val2\n",
        "      \n",
        "      return prod\n",
        "\n",
        "\n",
        "    def norm(self):\n",
        "      return self.dot(self)**(1/2)\n",
        "\n",
        "\n",
        "\n",
        "v1 = Vector([1, 2, 3])\n",
        "print(v1)\n",
        "print(v1[0])\n",
        "print(v1.sum())\n",
        "\n",
        "v2 = Vector([2, 4, 6])\n",
        "print(v1 + v2)\n",
        "print(v2 - v1)\n",
        "\n",
        "print(v1==v1)\n",
        "print(v1==v2)\n",
        "\n",
        "print(v1*v2)\n",
        "\n",
        "v3 = Vector([10, 20, 30, 40])\n",
        "print(v1*v3)\n",
        "\n",
        "print(v3.norm())"
      ],
      "execution_count": 23,
      "outputs": [
        {
          "output_type": "stream",
          "text": [
            "[1, 2, 3]\n",
            "1\n",
            "6\n",
            "[3, 6, 9]\n",
            "[1, 2, 3]\n",
            "True\n",
            "False\n",
            "28\n",
            "I vettori hanno dimensioni diverse\n",
            "None\n",
            "54.772255750516614\n"
          ],
          "name": "stdout"
        }
      ]
    }
  ]
}