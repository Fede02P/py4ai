{
  "nbformat": 4,
  "nbformat_minor": 0,
  "metadata": {
    "colab": {
      "name": "classes_exercises.ipynb",
      "provenance": [],
      "include_colab_link": true
    },
    "kernelspec": {
      "name": "python3",
      "display_name": "Python 3"
    }
  },
  "cells": [
    {
      "cell_type": "markdown",
      "metadata": {
        "id": "view-in-github",
        "colab_type": "text"
      },
      "source": [
        "<a href=\"https://colab.research.google.com/github/ProfAI/py4ai/blob/master/6%20-%20Programmazione%20ad%20Oggetti%20e%20Classi/classes_exercises.ipynb\" target=\"_parent\"><img src=\"https://colab.research.google.com/assets/colab-badge.svg\" alt=\"Open In Colab\"/></a>"
      ]
    },
    {
      "cell_type": "markdown",
      "metadata": {
        "id": "wflZvedQCLBJ",
        "colab_type": "text"
      },
      "source": [
        "# Esercizi con le Classi"
      ]
    },
    {
      "cell_type": "markdown",
      "metadata": {
        "id": "cSxUoawZD8Oh",
        "colab_type": "text"
      },
      "source": [
        "## 1. La Circonferenza"
      ]
    },
    {
      "cell_type": "code",
      "metadata": {
        "id": "lozSE4FqCIFP",
        "colab_type": "code",
        "colab": {
          "base_uri": "https://localhost:8080/",
          "height": 53
        },
        "outputId": "05775806-88ae-4c04-e4e9-9fc3012e18ce"
      },
      "source": [
        "class Circle:\n",
        "\n",
        "  def __init__(self, r):\n",
        "    self.r = r\n",
        "\n",
        "  def diameter(self):\n",
        "\n",
        "    \"\"\"\n",
        "    Calcola il diametro come 2*r\n",
        "    \"\"\"\n",
        "\n",
        "    return 2*self.r\n",
        "\n",
        "  def circumference(self):\n",
        "\n",
        "    \"\"\"\n",
        "    Calcola la circonferenza come 2*pi*r\n",
        "    \"\"\"\n",
        "\n",
        "    return 2*3.14*self.r\n",
        "\n",
        "  def area(self):\n",
        "\n",
        "    \"\"\"\n",
        "    Calcola l'area come pi*r^2\n",
        "    \"\"\"\n",
        "\n",
        "    return 3.14*(self.r**2)\n",
        "\n",
        "\n",
        "circle = Circle(1)\n",
        "print(circle.circumference())\n",
        "print(circle.area())"
      ],
      "execution_count": 5,
      "outputs": [
        {
          "output_type": "stream",
          "text": [
            "6.28\n",
            "3.14\n"
          ],
          "name": "stdout"
        }
      ]
    }
  ]
}