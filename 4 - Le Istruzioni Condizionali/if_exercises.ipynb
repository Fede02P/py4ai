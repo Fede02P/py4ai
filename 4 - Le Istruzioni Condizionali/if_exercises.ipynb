{
  "nbformat": 4,
  "nbformat_minor": 0,
  "metadata": {
    "colab": {
      "name": "if_exercises.ipynb",
      "provenance": [],
      "include_colab_link": true
    },
    "kernelspec": {
      "name": "python3",
      "display_name": "Python 3"
    }
  },
  "cells": [
    {
      "cell_type": "markdown",
      "metadata": {
        "id": "view-in-github",
        "colab_type": "text"
      },
      "source": [
        "<a href=\"https://colab.research.google.com/github/ProfAI/py4ai/blob/master/4%20-%20Le%20Istruzioni%20Condizionali/if_exercises.ipynb\" target=\"_parent\"><img src=\"https://colab.research.google.com/assets/colab-badge.svg\" alt=\"Open In Colab\"/></a>"
      ]
    },
    {
      "cell_type": "markdown",
      "metadata": {
        "id": "dxiWAikHuO4e",
        "colab_type": "text"
      },
      "source": [
        "# Esecizi con le Istruzioni Condizionali\n",
        "\n",
        "## 1 If-Else [[Esercizio su HackerRank]](https://www.hackerrank.com/challenges/py-if-else/problem)\n",
        "Inserisci un numero intero *n* in input:\n",
        "* Se *n* è dispari stampa *Weird*\n",
        "* Se *n* è pari e contenuto all'interno del range che va da 2 a 5 stampa *Not Weird*\n",
        "* Se *n* è pari e incluso nel range che va da 6 a 20 stampa *Weird*\n",
        "* Se *n* è pari e maggiori di 20 stampa *Not Weird*."
      ]
    },
    {
      "cell_type": "code",
      "metadata": {
        "id": "pZr4WOOQvK_9",
        "colab_type": "code",
        "colab": {
          "base_uri": "https://localhost:8080/",
          "height": 35
        },
        "outputId": "a384ec5d-d7b0-413e-b0a7-b422395cdaa6"
      },
      "source": [
        "n = int(input())\n",
        "\n",
        "if(n%2==1 or 6<=n<=20):\n",
        "  print(\"Weird\")\n",
        "elif(n>20 or 2<=n<=5):\n",
        "  print(\"Not Weird\")"
      ],
      "execution_count": 3,
      "outputs": [
        {
          "output_type": "execute_result",
          "data": {
            "text/plain": [
              "True"
            ]
          },
          "metadata": {
            "tags": []
          },
          "execution_count": 3
        }
      ]
    },
    {
      "cell_type": "code",
      "metadata": {
        "id": "HBDVBhkjv3cb",
        "colab_type": "code",
        "colab": {}
      },
      "source": [
        ""
      ],
      "execution_count": 0,
      "outputs": []
    }
  ]
}