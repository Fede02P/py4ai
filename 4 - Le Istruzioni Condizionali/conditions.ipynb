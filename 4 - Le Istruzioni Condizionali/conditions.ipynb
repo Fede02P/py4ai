{
  "nbformat": 4,
  "nbformat_minor": 0,
  "metadata": {
    "colab": {
      "name": "conditions.ipynb",
      "provenance": [],
      "include_colab_link": true
    },
    "kernelspec": {
      "name": "python3",
      "display_name": "Python 3"
    }
  },
  "cells": [
    {
      "cell_type": "markdown",
      "metadata": {
        "id": "view-in-github",
        "colab_type": "text"
      },
      "source": [
        "<a href=\"https://colab.research.google.com/github/ProfAI/py4ai/blob/master/4%20-%20Le%20Istruzioni%20Condizionali/conditions.ipynb\" target=\"_parent\"><img src=\"https://colab.research.google.com/assets/colab-badge.svg\" alt=\"Open In Colab\"/></a>"
      ]
    },
    {
      "cell_type": "markdown",
      "metadata": {
        "id": "84rdLky44kzU",
        "colab_type": "text"
      },
      "source": [
        "# Istruzioni Condizionali"
      ]
    },
    {
      "cell_type": "markdown",
      "metadata": {
        "id": "lRjK2jkp457C",
        "colab_type": "text"
      },
      "source": [
        "## Espressioni Booleane\n",
        "\n",
        "* **==**: ritorna True se le due espressioni sono uguali, altrimenti ritorna False\n",
        "* **!=**: ritorna True se le due espressioni sono diverse, altrimenti ritorna False\n",
        "* **>**: ritorna True se la prima espressione è maggiore della seconda (solo numeri)\n",
        "* **>**=: ritorna True se la prima espressione è maggiore o uguale alla seconda (solo numeri)\n",
        "* **<**: ritorna True se la prima espressione è minore della seconda (solo numeri)\n",
        "* **<=**: ritorna True se la prima espressione è minore o uguale alla seconda (solo numeri)\n"
      ]
    },
    {
      "cell_type": "code",
      "metadata": {
        "id": "13-B_DMm4a0R",
        "colab_type": "code",
        "colab": {
          "base_uri": "https://localhost:8080/",
          "height": 243
        },
        "outputId": "0b97abfc-ba5c-4376-ebf8-26b20f48825b"
      },
      "source": [
        "print(1==1)\n",
        "print(3+2==6-1)\n",
        "print(1!=1)\n",
        "\n",
        "print(\"\\n\")\n",
        "\n",
        "print(5>6)\n",
        "print(5<5)\n",
        "print(5<=5)\n",
        "\n",
        "print(\"\\n\")\n",
        "\n",
        "print(\"gatto\"==\"gatto\")\n",
        "print(\"gatto\"==\"cane\")\n",
        "print(\"cane\"!=\"gatto\")"
      ],
      "execution_count": 1,
      "outputs": [
        {
          "output_type": "stream",
          "text": [
            "True\n",
            "True\n",
            "False\n",
            "\n",
            "\n",
            "False\n",
            "False\n",
            "True\n",
            "\n",
            "\n",
            "True\n",
            "False\n",
            "True\n"
          ],
          "name": "stdout"
        }
      ]
    },
    {
      "cell_type": "markdown",
      "metadata": {
        "id": "yU6ryhyQ6JLL",
        "colab_type": "text"
      },
      "source": [
        "## Lo Statement IF"
      ]
    },
    {
      "cell_type": "code",
      "metadata": {
        "id": "NWoQS1bq5X3f",
        "colab_type": "code",
        "colab": {
          "base_uri": "https://localhost:8080/",
          "height": 35
        },
        "outputId": "e2dd9f86-9bdc-4162-f3c6-9218c33a0f6a"
      },
      "source": [
        "if(True):\n",
        "  print(\"Questo testo viene stampato\")\n",
        "if(False):\n",
        "  print(\"Questo testo non viene stampato\")"
      ],
      "execution_count": 15,
      "outputs": [
        {
          "output_type": "stream",
          "text": [
            "Questo testo viene stampato\n"
          ],
          "name": "stdout"
        }
      ]
    },
    {
      "cell_type": "code",
      "metadata": {
        "id": "47wTzXPU5Ztm",
        "colab_type": "code",
        "colab": {
          "base_uri": "https://localhost:8080/",
          "height": 35
        },
        "outputId": "84a8ba12-01a6-4569-edd3-60fd4267ac8b"
      },
      "source": [
        "PRINT = True\n",
        "\n",
        "if(PRINT == True):\n",
        "  print(\"Questo testo viene stampato\")"
      ],
      "execution_count": 16,
      "outputs": [
        {
          "output_type": "stream",
          "text": [
            "Questo testo viene stampato\n"
          ],
          "name": "stdout"
        }
      ]
    },
    {
      "cell_type": "code",
      "metadata": {
        "id": "OI23kVN86cHM",
        "colab_type": "code",
        "colab": {
          "base_uri": "https://localhost:8080/",
          "height": 52
        },
        "outputId": "81c672ab-f83f-498c-af8f-8d064f64e12b"
      },
      "source": [
        "EMAIL = \"giuseppe@profession.ai\"\n",
        "\n",
        "email = input(\"Inserisci la tua email: \")\n",
        "\n",
        "if(email == EMAIL):\n",
        "  print(\"Hai 5 nuove email !\")"
      ],
      "execution_count": 17,
      "outputs": [
        {
          "output_type": "stream",
          "text": [
            "Inserisci la tua email: giuseppe@profession.ai\n",
            "Hai 5 nuove email !\n"
          ],
          "name": "stdout"
        }
      ]
    },
    {
      "cell_type": "code",
      "metadata": {
        "id": "gClwW8xy7Cxj",
        "colab_type": "code",
        "colab": {
          "base_uri": "https://localhost:8080/",
          "height": 52
        },
        "outputId": "de692935-71de-47b4-dede-0f18ebe8edd1"
      },
      "source": [
        "EMAIL = \"giuseppe@profession.ai\"\n",
        "\n",
        "email = input(\"Inserisci la tua email: \")\n",
        "\n",
        "if(email == EMAIL):\n",
        "  print(\"Hai 5 nuove email !\")\n",
        "else:\n",
        "  print(\"Accesso Negato !\")"
      ],
      "execution_count": 19,
      "outputs": [
        {
          "output_type": "stream",
          "text": [
            "Inserisci la tua email: nonsonogiuseppe@gmail.com\n",
            "Accesso Negato !\n"
          ],
          "name": "stdout"
        }
      ]
    },
    {
      "cell_type": "code",
      "metadata": {
        "id": "dYM4Soa17duy",
        "colab_type": "code",
        "colab": {
          "base_uri": "https://localhost:8080/",
          "height": 69
        },
        "outputId": "b3f67d77-dbf2-48ad-864d-987532ac21c5"
      },
      "source": [
        "EMAIL = \"giuseppe@profession.ai\"\n",
        "PASSWORD = \"professionaispacca111\"\n",
        "\n",
        "email = input(\"Inserisci la tua email: \")\n",
        "password = input(\"Inserisci la tua password: \")\n",
        "\n",
        "if(email == EMAIL):\n",
        "  if(password == PASSWORD):\n",
        "    print(\"Hai 5 nuove email !\")\n",
        "  else:\n",
        "    print(\"La password non è corretta. Accesso negato !\")\n",
        "else:\n",
        "  print(\"Indirizzo email inesistente.\")\n"
      ],
      "execution_count": 21,
      "outputs": [
        {
          "output_type": "stream",
          "text": [
            "Inserisci la tua email: questamailnonesiste@mail.com\n",
            "Inserisci la tua password: unapasswordacaso\n",
            "Indirizzo email inesistente.\n"
          ],
          "name": "stdout"
        }
      ]
    },
    {
      "cell_type": "markdown",
      "metadata": {
        "id": "xx4wcL1s7TEk",
        "colab_type": "text"
      },
      "source": [
        "* **and**: ritorna True se entrambe le due condizioni sono True, altrimenti ritorna False\n",
        "* **or**: ritorna True se almeno una delle due condizioni è True, altrimenti ritorna False\n",
        "* **not**: esegue una negazione, se la condizione è True ritornerà False, se è False ritornerà True\n"
      ]
    },
    {
      "cell_type": "code",
      "metadata": {
        "id": "js5RLU6a7MV4",
        "colab_type": "code",
        "colab": {
          "base_uri": "https://localhost:8080/",
          "height": 69
        },
        "outputId": "24be9d3e-b926-43f4-9db8-66eebab24635"
      },
      "source": [
        "EMAIL = \"giuseppe@profession.ai\"\n",
        "PASSWORD = \"professionaispacca111\"\n",
        "\n",
        "email = input(\"Inserisci la tua email: \")\n",
        "password = input(\"Inserisci la tua password: \")\n",
        "\n",
        "if(email==EMAIL and password==PASSWORD):\n",
        "  print(\"Hai 5 nuove email !\")\n",
        "else:\n",
        "  print(\"Accesso Negato !\")"
      ],
      "execution_count": 23,
      "outputs": [
        {
          "output_type": "stream",
          "text": [
            "Inserisci la tua email: giuseppe@profession.ai\n",
            "Inserisci la tua password: abcd1234\n",
            "Accesso Negato !\n"
          ],
          "name": "stdout"
        }
      ]
    },
    {
      "cell_type": "code",
      "metadata": {
        "id": "mcol0WsG9NHC",
        "colab_type": "code",
        "colab": {
          "base_uri": "https://localhost:8080/",
          "height": 52
        },
        "outputId": "9518924e-2588-431c-f26f-00a3a8304d38"
      },
      "source": [
        "n = input(\"Inserisci un numero: \")\n",
        "n = int(n)\n",
        "\n",
        "if(n%2==0 and n>=0):\n",
        "    print(\"%d è un numero positivo pari\" % n)\n",
        "elif(n%2==1 and n>=0):\n",
        "    print(\"%d è un numero positivo dispari\" % n)\n",
        "elif(n%2==0 and n<0):\n",
        "    print(\"%d è un numero negativo pari\" % n)\n",
        "elif(n%2==1 and n<0):\n",
        "    print(\"%d è un numero negativo dispari\" % n)"
      ],
      "execution_count": 25,
      "outputs": [
        {
          "output_type": "stream",
          "text": [
            "Inserisci un numero: -1\n",
            "-1 è un numero negativo dispari\n"
          ],
          "name": "stdout"
        }
      ]
    },
    {
      "cell_type": "markdown",
      "metadata": {
        "id": "GOvH1jkY_UET",
        "colab_type": "text"
      },
      "source": [
        "## L'espressione IF"
      ]
    },
    {
      "cell_type": "code",
      "metadata": {
        "id": "jbCITiQj-7Mm",
        "colab_type": "code",
        "colab": {
          "base_uri": "https://localhost:8080/",
          "height": 52
        },
        "outputId": "e4d5dc3b-0d18-42f9-b42b-be2b2ae3ee15"
      },
      "source": [
        "n = input(\"Inserisci un numero: \")\n",
        "n = int(n)\n",
        "\n",
        "is_even = False if n%2 else True\n",
        "\n",
        "print(\"%d è pari ? %s\" % (n, is_even))"
      ],
      "execution_count": 30,
      "outputs": [
        {
          "output_type": "stream",
          "text": [
            "Inserisci un numero: 5\n",
            "5 è pari ? False\n"
          ],
          "name": "stdout"
        }
      ]
    },
    {
      "cell_type": "code",
      "metadata": {
        "id": "JxjYC_sqDjxc",
        "colab_type": "code",
        "colab": {
          "base_uri": "https://localhost:8080/",
          "height": 52
        },
        "outputId": "10eb75e4-f732-4bd8-9664-9485f37e2f74"
      },
      "source": [
        "n = input(\"Inserisci un numero: \")\n",
        "n = int(n)\n",
        "\n",
        "print(\"%d è\" % n, \"dispari\" if n%2 else \"pari\")"
      ],
      "execution_count": 32,
      "outputs": [
        {
          "output_type": "stream",
          "text": [
            "Inserisci un numero: 5\n",
            "5 è dispari\n"
          ],
          "name": "stdout"
        }
      ]
    }
  ]
}