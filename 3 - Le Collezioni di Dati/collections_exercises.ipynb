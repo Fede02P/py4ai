{
  "nbformat": 4,
  "nbformat_minor": 0,
  "metadata": {
    "colab": {
      "name": "collections_exercises.ipynb",
      "provenance": [],
      "include_colab_link": true
    },
    "kernelspec": {
      "name": "python3",
      "display_name": "Python 3"
    }
  },
  "cells": [
    {
      "cell_type": "markdown",
      "metadata": {
        "id": "view-in-github",
        "colab_type": "text"
      },
      "source": [
        "<a href=\"https://colab.research.google.com/github/ProfAI/py4ai/blob/master/3%20-%20Le%20Collezioni%20di%20Dati/collections_exercises.ipynb\" target=\"_parent\"><img src=\"https://colab.research.google.com/assets/colab-badge.svg\" alt=\"Open In Colab\"/></a>"
      ]
    },
    {
      "cell_type": "markdown",
      "metadata": {
        "id": "YGbAWvI8o3ob",
        "colab_type": "text"
      },
      "source": [
        "# Esecizi con le Collezioni"
      ]
    },
    {
      "cell_type": "code",
      "metadata": {
        "id": "i5TFSGgel_sQ",
        "colab_type": "code",
        "colab": {
          "base_uri": "https://localhost:8080/",
          "height": 87
        },
        "outputId": "379bcc95-a533-48b9-da9c-77b22a12019a"
      },
      "source": [
        "students = {\n",
        "    \"Giuseppe Gullo\":[(\"Matematica\", 9, 0), (\"Italiano\", 7, 3), (\"Inglese\", 7.5, 4), (\"Storia\", 7.5, 4), (\"Geografia\", 5, 7)],\n",
        "    \"Antonino Barbera\":[(\"Matematica\", 8, 1), (\"Italiano\", 6, 1), (\"Inglese\", 9.5, 0), (\"Storia\", 8, 2), (\"Geografia\", 8, 1)],\n",
        "    \"Nicola Spina\":[(\"Matematica\", 7.5, 2), (\"Italiano\", 6, 2), (\"Inglese\", 4, 3), (\"Storia\", 8.5, 2), (\"Geografia\", 8, 2)]\n",
        "}\n",
        "\n",
        "students[\"Albert Einstein\"] = [(\"Matematica\", 10, 0), (\"Italiano\", 10, 0), (\"Inglese\", 10, 0), (\"Storia\", 10, 0), (\"Geografia\", 10, 0)]\n",
        "\n",
        "students[\"Giuseppe Gullo\"].append((\"Fisica\", 9.5, 0))\n",
        "students[\"Antonino Barbera\"].append((\"Fisica\", 8, 1))\n",
        "students[\"Nicola Spina\"].append((\"Fisica\", 8, 3))\n",
        "students[\"Albert Einstein\"].append((\"Fisica\", 10, 0))\n",
        "\n",
        "print(students[\"Giuseppe Gullo\"][0][1])\n",
        "print(students[\"Antonino Barbera\"][2][2])\n",
        "print(students[\"Nicola Spina\"][2][1])\n",
        "print(students[\"Albert Einstein\"][5][1])"
      ],
      "execution_count": 9,
      "outputs": [
        {
          "output_type": "stream",
          "text": [
            "9\n",
            "0\n",
            "4\n",
            "10\n"
          ],
          "name": "stdout"
        }
      ]
    }
  ]
}