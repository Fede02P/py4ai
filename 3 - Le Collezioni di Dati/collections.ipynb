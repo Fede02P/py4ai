{
  "nbformat": 4,
  "nbformat_minor": 0,
  "metadata": {
    "colab": {
      "name": "collections.ipynb",
      "provenance": [],
      "include_colab_link": true
    },
    "kernelspec": {
      "name": "python3",
      "display_name": "Python 3"
    }
  },
  "cells": [
    {
      "cell_type": "markdown",
      "metadata": {
        "id": "view-in-github",
        "colab_type": "text"
      },
      "source": [
        "<a href=\"https://colab.research.google.com/github/ProfAI/py4ai/blob/master/3%20-%20Le%20Collezioni%20di%20Dati/collections.ipynb\" target=\"_parent\"><img src=\"https://colab.research.google.com/assets/colab-badge.svg\" alt=\"Open In Colab\"/></a>"
      ]
    },
    {
      "cell_type": "markdown",
      "metadata": {
        "id": "lh3vODumW60M",
        "colab_type": "text"
      },
      "source": [
        "# Le Collezioni di Dati in Python"
      ]
    },
    {
      "cell_type": "markdown",
      "metadata": {
        "id": "rYelZFvpW_U5",
        "colab_type": "text"
      },
      "source": [
        "## Le Liste"
      ]
    },
    {
      "cell_type": "code",
      "metadata": {
        "id": "zmDlMZ_MViW-",
        "colab_type": "code",
        "outputId": "2d5b3a8b-75a7-4c90-c94a-5ebeda23817c",
        "colab": {
          "base_uri": "https://localhost:8080/",
          "height": 35
        }
      },
      "source": [
        "l = [1, 2 ,3 ,5 ,8 ,13 ,21]\n",
        "print(l, type(l))"
      ],
      "execution_count": 0,
      "outputs": [
        {
          "output_type": "stream",
          "text": [
            "[1, 2, 3, 5, 8, 13, 21] <class 'list'>\n"
          ],
          "name": "stdout"
        }
      ]
    },
    {
      "cell_type": "markdown",
      "metadata": {
        "id": "H3LplS2RXQsb",
        "colab_type": "text"
      },
      "source": [
        "Indexing"
      ]
    },
    {
      "cell_type": "code",
      "metadata": {
        "id": "T_dIV8iIXE4r",
        "colab_type": "code",
        "outputId": "8c9ce0f3-6fe5-402c-f539-c27e6ba754a5",
        "colab": {
          "base_uri": "https://localhost:8080/",
          "height": 69
        }
      },
      "source": [
        "print(l[0]) # primo elemento della lista\n",
        "print(l[1]) # secondo elemento della lista\n",
        "print(l[5]) # sesto elemento della lista"
      ],
      "execution_count": 0,
      "outputs": [
        {
          "output_type": "stream",
          "text": [
            "1\n",
            "2\n",
            "13\n"
          ],
          "name": "stdout"
        }
      ]
    },
    {
      "cell_type": "code",
      "metadata": {
        "id": "eQzq855nXiRh",
        "colab_type": "code",
        "outputId": "4d7fbbfd-9f9b-4b22-8c54-9bc793f45ff6",
        "colab": {
          "base_uri": "https://localhost:8080/",
          "height": 52
        }
      },
      "source": [
        "print(l[-1]) # ultimo elemento della lista\n",
        "print(l[-3]) # terzultimo elemento della lista"
      ],
      "execution_count": 0,
      "outputs": [
        {
          "output_type": "stream",
          "text": [
            "21\n",
            "8\n"
          ],
          "name": "stdout"
        }
      ]
    },
    {
      "cell_type": "markdown",
      "metadata": {
        "id": "3XcOOfb5Xtsi",
        "colab_type": "text"
      },
      "source": [
        "Slicing"
      ]
    },
    {
      "cell_type": "code",
      "metadata": {
        "id": "sLss6ObcXrQU",
        "colab_type": "code",
        "outputId": "6cd5f550-61fb-483e-a66e-75ff77762b4a",
        "colab": {
          "base_uri": "https://localhost:8080/",
          "height": 87
        }
      },
      "source": [
        "print(l[4:6]) # dal quarto (incluso) al sesto (esluso)\n",
        "print(l[:3]) # fino al terzo elemento\n",
        "print(l[-2:]) # ultimi due elementi\n",
        "print(l[:-2]) # fino agli ultimi due elementi"
      ],
      "execution_count": 0,
      "outputs": [
        {
          "output_type": "stream",
          "text": [
            "[8, 13]\n",
            "[1, 2, 3]\n",
            "[13, 21]\n",
            "[1, 2, 3, 5, 8]\n"
          ],
          "name": "stdout"
        }
      ]
    },
    {
      "cell_type": "code",
      "metadata": {
        "id": "OBsUofNEYMAV",
        "colab_type": "code",
        "outputId": "b3d708a0-af68-49a8-e4e3-1c2b19deac21",
        "colab": {
          "base_uri": "https://localhost:8080/",
          "height": 35
        }
      },
      "source": [
        "l[::-1] # dall'ultimo al primo"
      ],
      "execution_count": 0,
      "outputs": [
        {
          "output_type": "execute_result",
          "data": {
            "text/plain": [
              "[21, 13, 8, 5, 3, 2, 1]"
            ]
          },
          "metadata": {
            "tags": []
          },
          "execution_count": 5
        }
      ]
    },
    {
      "cell_type": "markdown",
      "metadata": {
        "id": "FHgTu2XtY6mX",
        "colab_type": "text"
      },
      "source": [
        "Modifica"
      ]
    },
    {
      "cell_type": "code",
      "metadata": {
        "id": "IJsok7jmY8z3",
        "colab_type": "code",
        "outputId": "104049ac-57a2-4c36-ca05-8c9c5ca9b3ea",
        "colab": {
          "base_uri": "https://localhost:8080/",
          "height": 52
        }
      },
      "source": [
        "print(\"Valora alla posizione 5: %d\" % l[4])\n",
        "l[4] = 10\n",
        "print(\"Nuovo valore alla posizione 5: %d\" % l[4])"
      ],
      "execution_count": 0,
      "outputs": [
        {
          "output_type": "stream",
          "text": [
            "Valora alla posizione 5: 8\n",
            "Nuovo valore alla posizione 5: 10\n"
          ],
          "name": "stdout"
        }
      ]
    },
    {
      "cell_type": "code",
      "metadata": {
        "id": "ds9XiZimZVQ6",
        "colab_type": "code",
        "outputId": "f530d675-11c3-4531-c1b3-2561aeb68d96",
        "colab": {
          "base_uri": "https://localhost:8080/",
          "height": 52
        }
      },
      "source": [
        "print(l)\n",
        "l[:2] = [90, 100]\n",
        "print(l)"
      ],
      "execution_count": 0,
      "outputs": [
        {
          "output_type": "stream",
          "text": [
            "[1, 2, 3, 5, 10, 13, 21]\n",
            "[90, 100, 3, 5, 10, 13, 21]\n"
          ],
          "name": "stdout"
        }
      ]
    },
    {
      "cell_type": "code",
      "metadata": {
        "id": "lWmfUL8NZ1Ko",
        "colab_type": "code",
        "outputId": "9f14b194-98ea-4c6b-e77e-2ddaca6a14b9",
        "colab": {
          "base_uri": "https://localhost:8080/",
          "height": 35
        }
      },
      "source": [
        "l = l[::-1]\n",
        "print(l)"
      ],
      "execution_count": 0,
      "outputs": [
        {
          "output_type": "stream",
          "text": [
            "[21, 13, 10, 5, 3, 100, 90]\n"
          ],
          "name": "stdout"
        }
      ]
    },
    {
      "cell_type": "code",
      "metadata": {
        "id": "JCJXe_X_Y1Ns",
        "colab_type": "code",
        "colab": {}
      },
      "source": [
        "subjects = [\"machine learning\", \"deep learning\", \"artificial intelligence\"]"
      ],
      "execution_count": 0,
      "outputs": []
    },
    {
      "cell_type": "code",
      "metadata": {
        "id": "s-mRsHwTcCxu",
        "colab_type": "code",
        "outputId": "580b0931-7e39-431d-d7ff-9a6527fc3aff",
        "colab": {
          "base_uri": "https://localhost:8080/",
          "height": 35
        }
      },
      "source": [
        "subjects.append(\"computer vision\")\n",
        "print(subjects)"
      ],
      "execution_count": 0,
      "outputs": [
        {
          "output_type": "stream",
          "text": [
            "['machine learning', 'deep learning', 'artificial intelligence', 'computer vision']\n"
          ],
          "name": "stdout"
        }
      ]
    },
    {
      "cell_type": "code",
      "metadata": {
        "id": "NtepbV07cbFU",
        "colab_type": "code",
        "outputId": "e0e0f64f-8bed-4ec1-fe89-540517a7ec29",
        "colab": {
          "base_uri": "https://localhost:8080/",
          "height": 35
        }
      },
      "source": [
        "subjects.insert(3, \"natural language processing\")\n",
        "print(subjects)"
      ],
      "execution_count": 0,
      "outputs": [
        {
          "output_type": "stream",
          "text": [
            "['machine learning', 'deep learning', 'artificial intelligence', 'natural language processing', 'computer vision']\n"
          ],
          "name": "stdout"
        }
      ]
    },
    {
      "cell_type": "code",
      "metadata": {
        "id": "Psej7VvyckK4",
        "colab_type": "code",
        "outputId": "5146b8ed-7a88-4c15-ea84-8ce47a6c258e",
        "colab": {
          "base_uri": "https://localhost:8080/",
          "height": 35
        }
      },
      "source": [
        "subjects = [\"machine learning\", \"deep learning\", \"artificial intelligence\"]\n",
        "subjects = subjects + [\"natural language processing\", \"computer vision\"]\n",
        "print(subjects)"
      ],
      "execution_count": 0,
      "outputs": [
        {
          "output_type": "stream",
          "text": [
            "['machine learning', 'deep learning', 'artificial intelligence', 'natural language processing', 'computer vision']\n"
          ],
          "name": "stdout"
        }
      ]
    },
    {
      "cell_type": "code",
      "metadata": {
        "id": "OscqZRYdc0_j",
        "colab_type": "code",
        "outputId": "ca11038a-3538-499d-e908-2b9c293ab998",
        "colab": {
          "base_uri": "https://localhost:8080/",
          "height": 35
        }
      },
      "source": [
        "subjects.remove(\"natural language processing\")\n",
        "print(subjects)"
      ],
      "execution_count": 0,
      "outputs": [
        {
          "output_type": "stream",
          "text": [
            "['machine learning', 'deep learning', 'artificial intelligence', 'computer vision']\n"
          ],
          "name": "stdout"
        }
      ]
    },
    {
      "cell_type": "code",
      "metadata": {
        "id": "iuPfVhfOdC2L",
        "colab_type": "code",
        "outputId": "11b70bb7-7f6a-4913-c1e7-d7dafe6b43f9",
        "colab": {
          "base_uri": "https://localhost:8080/",
          "height": 35
        }
      },
      "source": [
        "subjects.pop(1)\n",
        "print(subjects)"
      ],
      "execution_count": 0,
      "outputs": [
        {
          "output_type": "stream",
          "text": [
            "['machine learning', 'artificial intelligence', 'computer vision']\n"
          ],
          "name": "stdout"
        }
      ]
    },
    {
      "cell_type": "markdown",
      "metadata": {
        "id": "RJ9OwGi_YVbH",
        "colab_type": "text"
      },
      "source": [
        "Verifica"
      ]
    },
    {
      "cell_type": "code",
      "metadata": {
        "id": "6Fp7XjfHYaUq",
        "colab_type": "code",
        "outputId": "42e1a52d-c55c-4434-c9cf-7fce90ff8f8a",
        "colab": {
          "base_uri": "https://localhost:8080/",
          "height": 35
        }
      },
      "source": [
        "print(\"artificial intelligence\" in subjects)"
      ],
      "execution_count": 0,
      "outputs": [
        {
          "output_type": "stream",
          "text": [
            "True\n"
          ],
          "name": "stdout"
        }
      ]
    },
    {
      "cell_type": "markdown",
      "metadata": {
        "id": "_7HshDiuUyUT",
        "colab_type": "text"
      },
      "source": [
        "Funzioni utili"
      ]
    },
    {
      "cell_type": "code",
      "metadata": {
        "id": "fpT78B1lU1Y0",
        "colab_type": "code",
        "colab": {
          "base_uri": "https://localhost:8080/",
          "height": 52
        },
        "outputId": "61050db3-51b6-47af-9970-e4579b58cb45"
      },
      "source": [
        "subjects_list = [\"Italiano\", \"Storia\", \"Matematica\", \"Matematica\", \"Geografia\", \"Filosofia\"]\n",
        "\n",
        "print(subjects_list.index('Storia')) # indice di un elemento\n",
        "print(subjects_list.count('Matematica')) # count di un elemento"
      ],
      "execution_count": 1,
      "outputs": [
        {
          "output_type": "stream",
          "text": [
            "1\n",
            "2\n"
          ],
          "name": "stdout"
        }
      ]
    },
    {
      "cell_type": "markdown",
      "metadata": {
        "id": "_lDnTuM-hVoa",
        "colab_type": "text"
      },
      "source": [
        "liste dentro liste"
      ]
    },
    {
      "cell_type": "code",
      "metadata": {
        "id": "RS2cIePNhXj3",
        "colab_type": "code",
        "colab": {
          "base_uri": "https://localhost:8080/",
          "height": 55
        },
        "outputId": "2b8b5c40-7cb6-49c0-f008-e5c66572a104"
      },
      "source": [
        "subjects_week = [\n",
        "                 [\"Italiano\", \"Storia\", \"Matematica\", \"Matematica\", \"Geografia\", \"Filosofia\"],\n",
        "                 [\"Latino\", \"Latino\", \"Matematica\", \"Italiano\", \"Italiano\", \"Educazione Fisica\"],\n",
        "                 [\"Italiano\", \"Inglese\", \"Matematica\", \"Filosofia\", \"Filosofia\", \"Latino\"],\n",
        "                 [\"Filosofia\", \"Italiano\", \"Matematica\", \"Matematica\", \"Inglese\", \"Chimica\"],\n",
        "                 [\"Educazione Fisica\", \"Filosofia\", \"Latino\", \"Latino\", \"Storia\", \"Italiano\"]\n",
        "                ]\n",
        "\n",
        "print(subjects_week)"
      ],
      "execution_count": 51,
      "outputs": [
        {
          "output_type": "stream",
          "text": [
            "[['Italiano', 'Storia', 'Matematica', 'Matematica', 'Geografia', 'Filosofia'], ['Latino', 'Latino', 'Matematica', 'Italiano', 'Italiano', 'Educazione Fisica'], ['Italiano', 'Inglese', 'Matematica', 'Filosofia', 'Filosofia', 'Latino'], ['Filosofia', 'Italiano', 'Matematica', 'Matematica', 'Inglese', 'Chimica'], ['Educazione Fisica', 'Filosofia', 'Latino', 'Latino', 'Storia', 'Italiano']]\n"
          ],
          "name": "stdout"
        }
      ]
    },
    {
      "cell_type": "code",
      "metadata": {
        "id": "G_dj84MtiUWB",
        "colab_type": "code",
        "colab": {
          "base_uri": "https://localhost:8080/",
          "height": 35
        },
        "outputId": "2e41cdac-8d0d-4050-d550-d7825d4d2eeb"
      },
      "source": [
        "subjects_week[2]"
      ],
      "execution_count": 52,
      "outputs": [
        {
          "output_type": "execute_result",
          "data": {
            "text/plain": [
              "['Italiano', 'Inglese', 'Matematica', 'Filosofia', 'Filosofia', 'Latino']"
            ]
          },
          "metadata": {
            "tags": []
          },
          "execution_count": 52
        }
      ]
    },
    {
      "cell_type": "code",
      "metadata": {
        "id": "89HymdNIicSO",
        "colab_type": "code",
        "colab": {
          "base_uri": "https://localhost:8080/",
          "height": 35
        },
        "outputId": "4f1d1b15-a487-469a-9860-917579118c13"
      },
      "source": [
        "subjects_week[2][3]"
      ],
      "execution_count": 54,
      "outputs": [
        {
          "output_type": "execute_result",
          "data": {
            "text/plain": [
              "'Filosofia'"
            ]
          },
          "metadata": {
            "tags": []
          },
          "execution_count": 54
        }
      ]
    },
    {
      "cell_type": "markdown",
      "metadata": {
        "id": "hlidK1r-dZIt",
        "colab_type": "text"
      },
      "source": [
        "## Le Tuple"
      ]
    },
    {
      "cell_type": "code",
      "metadata": {
        "id": "SVRAbKy1davn",
        "colab_type": "code",
        "outputId": "5469fb75-3e54-498e-a49f-570e84f0a28d",
        "colab": {
          "base_uri": "https://localhost:8080/",
          "height": 35
        }
      },
      "source": [
        "t = (1, 2 ,3 ,5 ,8 ,13 ,21)\n",
        "print(t, type(t))"
      ],
      "execution_count": 0,
      "outputs": [
        {
          "output_type": "stream",
          "text": [
            "(1, 2, 3, 5, 8, 13, 21) <class 'tuple'>\n"
          ],
          "name": "stdout"
        }
      ]
    },
    {
      "cell_type": "code",
      "metadata": {
        "id": "Jx53_pXQenfo",
        "colab_type": "code",
        "outputId": "c2a65d2f-75b4-4b66-ed45-23f26385b35a",
        "colab": {
          "base_uri": "https://localhost:8080/",
          "height": 52
        }
      },
      "source": [
        "print(t[0]) # primo elemento della tupla\n",
        "print(t[-1]) # ultimo elemento della tupla"
      ],
      "execution_count": 0,
      "outputs": [
        {
          "output_type": "stream",
          "text": [
            "1\n",
            "21\n"
          ],
          "name": "stdout"
        }
      ]
    },
    {
      "cell_type": "code",
      "metadata": {
        "id": "yQDIHV0we1k_",
        "colab_type": "code",
        "outputId": "8a770679-3904-4a70-e825-738d553e3a36",
        "colab": {
          "base_uri": "https://localhost:8080/",
          "height": 52
        }
      },
      "source": [
        "print(t[:3]) # primi 3 elementi\n",
        "print(t[3:6]) # dal terzo (incluso) al sesto (escluso)"
      ],
      "execution_count": 0,
      "outputs": [
        {
          "output_type": "stream",
          "text": [
            "(1, 2, 3)\n",
            "(5, 8, 13)\n"
          ],
          "name": "stdout"
        }
      ]
    },
    {
      "cell_type": "code",
      "metadata": {
        "id": "VXwtkKxDe6zA",
        "colab_type": "code",
        "outputId": "78cbd011-0063-4fa1-e649-d6369c895318",
        "colab": {
          "base_uri": "https://localhost:8080/",
          "height": 166
        }
      },
      "source": [
        "t[0] = 2"
      ],
      "execution_count": 0,
      "outputs": [
        {
          "output_type": "error",
          "ename": "TypeError",
          "evalue": "ignored",
          "traceback": [
            "\u001b[0;31m---------------------------------------------------------------------------\u001b[0m",
            "\u001b[0;31mTypeError\u001b[0m                                 Traceback (most recent call last)",
            "\u001b[0;32m<ipython-input-30-0c6697a06bab>\u001b[0m in \u001b[0;36m<module>\u001b[0;34m()\u001b[0m\n\u001b[0;32m----> 1\u001b[0;31m \u001b[0mt\u001b[0m\u001b[0;34m[\u001b[0m\u001b[0;36m0\u001b[0m\u001b[0;34m]\u001b[0m \u001b[0;34m=\u001b[0m \u001b[0;36m2\u001b[0m\u001b[0;34m\u001b[0m\u001b[0;34m\u001b[0m\u001b[0m\n\u001b[0m",
            "\u001b[0;31mTypeError\u001b[0m: 'tuple' object does not support item assignment"
          ]
        }
      ]
    },
    {
      "cell_type": "markdown",
      "metadata": {
        "id": "vfEFc_5TUhvU",
        "colab_type": "text"
      },
      "source": [
        "Funzioni utili per liste e tuple"
      ]
    },
    {
      "cell_type": "code",
      "metadata": {
        "id": "FRhS2yDnfKmq",
        "colab_type": "code",
        "colab": {}
      },
      "source": [
        "subjects_tuple = (\"Italiano\", \"Storia\", \"Matematica\", \"Matematica\", \"Geografia\", \"Filosofia\")\n",
        "\n",
        "print(subjects_tuple.index('Storia')) # indice di un elemento\n",
        "print(subjects_tuple.count('Matematica')) # count di un elemento"
      ],
      "execution_count": 0,
      "outputs": []
    },
    {
      "cell_type": "code",
      "metadata": {
        "id": "SR6J7Z55io4h",
        "colab_type": "code",
        "colab": {
          "base_uri": "https://localhost:8080/",
          "height": 35
        },
        "outputId": "0a5e6bbd-4804-432f-8081-b4630b0caeb4"
      },
      "source": [
        "subjects_vote =((\"italiano\", 7), (\"latino\", 7), (\"greco\", 4), (\"filosofia\", 6), (\"matematica\", 10))\n",
        "print(subjects_vote)"
      ],
      "execution_count": 57,
      "outputs": [
        {
          "output_type": "stream",
          "text": [
            "(('italiano', 7), ('latino', 7), ('greco', 4), ('filosofia', 6), ('matematica', 10))\n"
          ],
          "name": "stdout"
        }
      ]
    },
    {
      "cell_type": "code",
      "metadata": {
        "id": "b7BQ1bKzjS4u",
        "colab_type": "code",
        "colab": {
          "base_uri": "https://localhost:8080/",
          "height": 35
        },
        "outputId": "225d7007-994e-4bc5-c984-6c2741ec55d2"
      },
      "source": [
        "subjects_vote[0]"
      ],
      "execution_count": 58,
      "outputs": [
        {
          "output_type": "execute_result",
          "data": {
            "text/plain": [
              "('italiano', 7)"
            ]
          },
          "metadata": {
            "tags": []
          },
          "execution_count": 58
        }
      ]
    },
    {
      "cell_type": "code",
      "metadata": {
        "id": "rDyFjbEmjU56",
        "colab_type": "code",
        "colab": {
          "base_uri": "https://localhost:8080/",
          "height": 35
        },
        "outputId": "8b866cf0-2420-4667-fb5a-99a3b3a9eb0e"
      },
      "source": [
        "subjects_vote[0][1]"
      ],
      "execution_count": 59,
      "outputs": [
        {
          "output_type": "execute_result",
          "data": {
            "text/plain": [
              "7"
            ]
          },
          "metadata": {
            "tags": []
          },
          "execution_count": 59
        }
      ]
    },
    {
      "cell_type": "markdown",
      "metadata": {
        "id": "g3J8lFiEVm6l",
        "colab_type": "text"
      },
      "source": [
        "## Set e Frozenset"
      ]
    },
    {
      "cell_type": "code",
      "metadata": {
        "id": "EN3QyqxsVmX8",
        "colab_type": "code",
        "colab": {
          "base_uri": "https://localhost:8080/",
          "height": 35
        },
        "outputId": "9c0624f2-29d9-4454-efda-26729494485f"
      },
      "source": [
        "my_set = {1,2,2,3,4,5,5}\n",
        "print(my_set, type(my_set))"
      ],
      "execution_count": 2,
      "outputs": [
        {
          "output_type": "stream",
          "text": [
            "{1, 2, 3, 4, 5} <class 'set'>\n"
          ],
          "name": "stdout"
        }
      ]
    },
    {
      "cell_type": "code",
      "metadata": {
        "id": "HnHJWfqlVzU7",
        "colab_type": "code",
        "colab": {}
      },
      "source": [
        "subjects_set = {\"Italiano\", \"Storia\", \"Matematica\", \"Matematica\", \"Geografia\", \"Filosofia\"}"
      ],
      "execution_count": 0,
      "outputs": []
    },
    {
      "cell_type": "code",
      "metadata": {
        "id": "7DdnKBgAWZs3",
        "colab_type": "code",
        "colab": {
          "base_uri": "https://localhost:8080/",
          "height": 35
        },
        "outputId": "2b83a0b1-ef22-46a6-bfcf-31d84378aa54"
      },
      "source": [
        "subjects_set.add(\"Chimica\") # aggiungiamo la stringa 'Chimica' al set\n",
        "print(subjects_set)"
      ],
      "execution_count": 4,
      "outputs": [
        {
          "output_type": "stream",
          "text": [
            "{'Italiano', 'Storia', 'Chimica', 'Geografia', 'Filosofia', 'Matematica'}\n"
          ],
          "name": "stdout"
        }
      ]
    },
    {
      "cell_type": "code",
      "metadata": {
        "id": "D-v3WNNYWb8m",
        "colab_type": "code",
        "colab": {
          "base_uri": "https://localhost:8080/",
          "height": 35
        },
        "outputId": "24127974-f3f9-4939-d4cf-571888e6c9cd"
      },
      "source": [
        "subjects_set.add(\"Filosofia\") # la stringa 'Filosia' non verrà aggiunta in quanto è già presente\n",
        "print(subjects_set)"
      ],
      "execution_count": 5,
      "outputs": [
        {
          "output_type": "stream",
          "text": [
            "{'Italiano', 'Storia', 'Chimica', 'Geografia', 'Filosofia', 'Matematica'}\n"
          ],
          "name": "stdout"
        }
      ]
    },
    {
      "cell_type": "code",
      "metadata": {
        "id": "dUld6LbIWmqx",
        "colab_type": "code",
        "colab": {
          "base_uri": "https://localhost:8080/",
          "height": 35
        },
        "outputId": "87b62e0b-8d02-465a-d60b-32fa711db434"
      },
      "source": [
        "subjects_set.remove(\"Filosofia\") # rimuoviamo la stringa 'Filosia' dal set\n",
        "print(subjects_set)"
      ],
      "execution_count": 6,
      "outputs": [
        {
          "output_type": "stream",
          "text": [
            "{'Italiano', 'Storia', 'Chimica', 'Geografia', 'Matematica'}\n"
          ],
          "name": "stdout"
        }
      ]
    },
    {
      "cell_type": "code",
      "metadata": {
        "id": "qcwJYBHLW1fB",
        "colab_type": "code",
        "colab": {
          "base_uri": "https://localhost:8080/",
          "height": 183
        },
        "outputId": "5e9ba498-e14f-4f59-81c5-1455983c3db5"
      },
      "source": [
        "subjects_set.remove(\"Arte\") # la stringa 'Arte' non è presente nel set -> ECCEZIONE\n",
        "print(subjects_set)"
      ],
      "execution_count": 7,
      "outputs": [
        {
          "output_type": "error",
          "ename": "KeyError",
          "evalue": "ignored",
          "traceback": [
            "\u001b[0;31m---------------------------------------------------------------------------\u001b[0m",
            "\u001b[0;31mKeyError\u001b[0m                                  Traceback (most recent call last)",
            "\u001b[0;32m<ipython-input-7-4fd7eff3b719>\u001b[0m in \u001b[0;36m<module>\u001b[0;34m()\u001b[0m\n\u001b[0;32m----> 1\u001b[0;31m \u001b[0msubjects_set\u001b[0m\u001b[0;34m.\u001b[0m\u001b[0mremove\u001b[0m\u001b[0;34m(\u001b[0m\u001b[0;34m\"Arte\"\u001b[0m\u001b[0;34m)\u001b[0m \u001b[0;31m# rimuoviamo la stringa 'Filosia' dal set\u001b[0m\u001b[0;34m\u001b[0m\u001b[0;34m\u001b[0m\u001b[0m\n\u001b[0m\u001b[1;32m      2\u001b[0m \u001b[0mprint\u001b[0m\u001b[0;34m(\u001b[0m\u001b[0msubjects_set\u001b[0m\u001b[0;34m)\u001b[0m\u001b[0;34m\u001b[0m\u001b[0;34m\u001b[0m\u001b[0m\n",
            "\u001b[0;31mKeyError\u001b[0m: 'Arte'"
          ]
        }
      ]
    },
    {
      "cell_type": "code",
      "metadata": {
        "id": "T6yKfJaZW8MX",
        "colab_type": "code",
        "colab": {
          "base_uri": "https://localhost:8080/",
          "height": 35
        },
        "outputId": "9fb08334-f08c-4abf-a6c4-2f675ef45ac7"
      },
      "source": [
        "subjects_set.discard(\"Arte\") # la stringa 'Arte' non è presente nel set -> Non fa nulla\n",
        "print(subjects_set)"
      ],
      "execution_count": 9,
      "outputs": [
        {
          "output_type": "stream",
          "text": [
            "{'Italiano', 'Storia', 'Chimica', 'Geografia', 'Matematica'}\n"
          ],
          "name": "stdout"
        }
      ]
    },
    {
      "cell_type": "code",
      "metadata": {
        "id": "u3SIpWbdXKs6",
        "colab_type": "code",
        "colab": {
          "base_uri": "https://localhost:8080/",
          "height": 35
        },
        "outputId": "37646a2c-0475-450f-cbe5-ea211bdd4776"
      },
      "source": [
        "subject = subjects_set.pop() # estraiamo un elemento a caso dal set\n",
        "print(subject, subjects_set)"
      ],
      "execution_count": 10,
      "outputs": [
        {
          "output_type": "stream",
          "text": [
            "Italiano {'Storia', 'Chimica', 'Geografia', 'Matematica'}\n"
          ],
          "name": "stdout"
        }
      ]
    },
    {
      "cell_type": "code",
      "metadata": {
        "id": "cCa-uGD9XY3X",
        "colab_type": "code",
        "colab": {
          "base_uri": "https://localhost:8080/",
          "height": 35
        },
        "outputId": "81b099d5-5cba-497f-b47e-08a4344c5dea"
      },
      "source": [
        "subjects_set.clear()\n",
        "print(subjects_set)"
      ],
      "execution_count": 12,
      "outputs": [
        {
          "output_type": "stream",
          "text": [
            "set()\n"
          ],
          "name": "stdout"
        }
      ]
    },
    {
      "cell_type": "code",
      "metadata": {
        "id": "jmClxgdsXonb",
        "colab_type": "code",
        "colab": {
          "base_uri": "https://localhost:8080/",
          "height": 35
        },
        "outputId": "ffdef119-f647-4eb7-9818-35c9fda0b5ac"
      },
      "source": [
        "subjects_frozen = frozenset({\"Italiano\", \"Storia\", \"Matematica\", \"Matematica\", \"Geografia\", \"Filosofia\"})\n",
        "print(subjects_frozen)"
      ],
      "execution_count": 13,
      "outputs": [
        {
          "output_type": "stream",
          "text": [
            "frozenset({'Italiano', 'Storia', 'Geografia', 'Filosofia', 'Matematica'})\n"
          ],
          "name": "stdout"
        }
      ]
    },
    {
      "cell_type": "markdown",
      "metadata": {
        "id": "6Wp7CJoOYb8t",
        "colab_type": "text"
      },
      "source": [
        "## Dizionari"
      ]
    },
    {
      "cell_type": "code",
      "metadata": {
        "id": "7rA5oqbUYQ6P",
        "colab_type": "code",
        "colab": {
          "base_uri": "https://localhost:8080/",
          "height": 35
        },
        "outputId": "f5465d6a-885c-495b-9aa1-8cc89d876f1d"
      },
      "source": [
        "report = {\"italiano\":7, \"latino\":7, \"greco\":4, \"filosofia\":6, \"matematica\":10}\n",
        "print(report, type(report))"
      ],
      "execution_count": 25,
      "outputs": [
        {
          "output_type": "stream",
          "text": [
            "{'italiano': 7, 'latino': 7, 'greco': 4, 'filosofia': 6, 'matematica': 10} <class 'dict'>\n"
          ],
          "name": "stdout"
        }
      ]
    },
    {
      "cell_type": "code",
      "metadata": {
        "id": "m3vQyHiUarsM",
        "colab_type": "code",
        "colab": {
          "base_uri": "https://localhost:8080/",
          "height": 35
        },
        "outputId": "c89db5b8-33c3-4a15-8d0d-ba01a6e8c2e5"
      },
      "source": [
        "report[\"latino\"] # accediamo al valore per la chiave 'latino'"
      ],
      "execution_count": 26,
      "outputs": [
        {
          "output_type": "execute_result",
          "data": {
            "text/plain": [
              "7"
            ]
          },
          "metadata": {
            "tags": []
          },
          "execution_count": 26
        }
      ]
    },
    {
      "cell_type": "code",
      "metadata": {
        "id": "IFNDyvQHa5Xt",
        "colab_type": "code",
        "colab": {
          "base_uri": "https://localhost:8080/",
          "height": 166
        },
        "outputId": "56bc8868-d89a-4f97-f659-02e32657cc2c"
      },
      "source": [
        "report[\"fisica\"] # la chiave 'fisica' non esiste -> ECCEZIONE"
      ],
      "execution_count": 27,
      "outputs": [
        {
          "output_type": "error",
          "ename": "KeyError",
          "evalue": "ignored",
          "traceback": [
            "\u001b[0;31m---------------------------------------------------------------------------\u001b[0m",
            "\u001b[0;31mKeyError\u001b[0m                                  Traceback (most recent call last)",
            "\u001b[0;32m<ipython-input-27-ce823f33626e>\u001b[0m in \u001b[0;36m<module>\u001b[0;34m()\u001b[0m\n\u001b[0;32m----> 1\u001b[0;31m \u001b[0mreport\u001b[0m\u001b[0;34m[\u001b[0m\u001b[0;34m\"fisica\"\u001b[0m\u001b[0;34m]\u001b[0m \u001b[0;31m# la chiave 'fisica' non esiste -> ECCEZIONE\u001b[0m\u001b[0;34m\u001b[0m\u001b[0;34m\u001b[0m\u001b[0m\n\u001b[0m",
            "\u001b[0;31mKeyError\u001b[0m: 'fisica'"
          ]
        }
      ]
    },
    {
      "cell_type": "code",
      "metadata": {
        "id": "f60MSMzIbH9f",
        "colab_type": "code",
        "colab": {
          "base_uri": "https://localhost:8080/",
          "height": 35
        },
        "outputId": "75cf11bb-71c5-4f59-fcb5-6bab49ec4071"
      },
      "source": [
        "report[\"fisica\"] = 10\n",
        "print(report)"
      ],
      "execution_count": 31,
      "outputs": [
        {
          "output_type": "stream",
          "text": [
            "{'italiano': 7, 'latino': 7, 'greco': 6, 'filosofia': 6, 'matematica': 10, 'fisica': 10}\n"
          ],
          "name": "stdout"
        }
      ]
    },
    {
      "cell_type": "code",
      "metadata": {
        "id": "wdkCzU_SbK_A",
        "colab_type": "code",
        "colab": {
          "base_uri": "https://localhost:8080/",
          "height": 35
        },
        "outputId": "e00f47b5-0258-4c23-c439-0751d80d837f"
      },
      "source": [
        "report[\"greco\"] = 6\n",
        "print(report)"
      ],
      "execution_count": 32,
      "outputs": [
        {
          "output_type": "stream",
          "text": [
            "{'italiano': 7, 'latino': 7, 'greco': 6, 'filosofia': 6, 'matematica': 10, 'fisica': 10}\n"
          ],
          "name": "stdout"
        }
      ]
    },
    {
      "cell_type": "code",
      "metadata": {
        "id": "4aCAOWhLbQQO",
        "colab_type": "code",
        "colab": {
          "base_uri": "https://localhost:8080/",
          "height": 35
        },
        "outputId": "a824d4d9-54a9-49cd-ad66-6196de943e64"
      },
      "source": [
        "report[\"inglese\"] = {\"grammatica\":7, \"letteratura\":6}\n",
        "print(report)"
      ],
      "execution_count": 33,
      "outputs": [
        {
          "output_type": "stream",
          "text": [
            "{'italiano': 7, 'latino': 7, 'greco': 6, 'filosofia': 6, 'matematica': 10, 'fisica': 10, 'inglese': {'grammatica': 7, 'letteratura': 6}}\n"
          ],
          "name": "stdout"
        }
      ]
    },
    {
      "cell_type": "code",
      "metadata": {
        "id": "vtWKrJyycHXA",
        "colab_type": "code",
        "colab": {
          "base_uri": "https://localhost:8080/",
          "height": 35
        },
        "outputId": "10e5736a-1c2d-4bdb-ebd5-361a3bb1ce87"
      },
      "source": [
        "values = report.values()\n",
        "print(values, type(values))"
      ],
      "execution_count": 36,
      "outputs": [
        {
          "output_type": "stream",
          "text": [
            "dict_values([7, 7, 6, 6, 10, 10, {'grammatica': 7, 'letteratura': 6}]) <class 'dict_values'>\n"
          ],
          "name": "stdout"
        }
      ]
    },
    {
      "cell_type": "code",
      "metadata": {
        "id": "ug7bQg7Cbt9u",
        "colab_type": "code",
        "colab": {
          "base_uri": "https://localhost:8080/",
          "height": 35
        },
        "outputId": "817d68ff-2c40-4d00-d457-b3bdd39e81e4"
      },
      "source": [
        "keys = report.keys()\n",
        "print(keys, type(keys))"
      ],
      "execution_count": 35,
      "outputs": [
        {
          "output_type": "stream",
          "text": [
            "dict_keys(['italiano', 'latino', 'greco', 'filosofia', 'matematica', 'fisica', 'inglese']) <class 'dict_keys'>\n"
          ],
          "name": "stdout"
        }
      ]
    },
    {
      "cell_type": "code",
      "metadata": {
        "id": "4GbjcmhJcSsi",
        "colab_type": "code",
        "colab": {
          "base_uri": "https://localhost:8080/",
          "height": 35
        },
        "outputId": "dbf62c42-63ac-4e38-dafd-e5229b056558"
      },
      "source": [
        "keys = list(keys)\n",
        "print(keys, type(keys))"
      ],
      "execution_count": 40,
      "outputs": [
        {
          "output_type": "stream",
          "text": [
            "['italiano', 'latino', 'greco', 'filosofia', 'matematica', 'fisica', 'inglese'] <class 'list'>\n"
          ],
          "name": "stdout"
        }
      ]
    },
    {
      "cell_type": "markdown",
      "metadata": {
        "id": "len8L_PCclSY",
        "colab_type": "text"
      },
      "source": [
        "## Casting tra collezioni"
      ]
    },
    {
      "cell_type": "code",
      "metadata": {
        "id": "HyEszNnoeIIb",
        "colab_type": "code",
        "colab": {}
      },
      "source": [
        "names_list = [\"Giuseppe\", \"Carlo\", \"Nicola\", \"Giuseppe\", \"Carlo\", \"Antonio\"]"
      ],
      "execution_count": 0,
      "outputs": []
    },
    {
      "cell_type": "code",
      "metadata": {
        "id": "RT1br43lcnX7",
        "colab_type": "code",
        "colab": {
          "base_uri": "https://localhost:8080/",
          "height": 35
        },
        "outputId": "d1cacef7-4702-4a9f-9870-389f617fe3d8"
      },
      "source": [
        "names_immutable = tuple(names_list)\n",
        "print(names_immutable)"
      ],
      "execution_count": 43,
      "outputs": [
        {
          "output_type": "stream",
          "text": [
            "('Giuseppe', 'Carlo', 'Nicola', 'Giuseppe', 'Carlo', 'Antonio')\n"
          ],
          "name": "stdout"
        }
      ]
    },
    {
      "cell_type": "code",
      "metadata": {
        "id": "Wxt4aUbWdt4c",
        "colab_type": "code",
        "colab": {
          "base_uri": "https://localhost:8080/",
          "height": 35
        },
        "outputId": "5debbea9-463c-4fb7-ac7a-d43f1a19b070"
      },
      "source": [
        "names_unique = set(names_list)\n",
        "print(names_unique)"
      ],
      "execution_count": 44,
      "outputs": [
        {
          "output_type": "stream",
          "text": [
            "{'Antonio', 'Carlo', 'Giuseppe', 'Nicola'}\n"
          ],
          "name": "stdout"
        }
      ]
    },
    {
      "cell_type": "code",
      "metadata": {
        "id": "mVJdmdOFeQX0",
        "colab_type": "code",
        "colab": {
          "base_uri": "https://localhost:8080/",
          "height": 35
        },
        "outputId": "a495b471-0df1-42d0-b81b-7763374fbe6a"
      },
      "source": [
        "names_unique = set(names_immutable)\n",
        "print(names_unique)"
      ],
      "execution_count": 45,
      "outputs": [
        {
          "output_type": "stream",
          "text": [
            "{'Antonio', 'Carlo', 'Giuseppe', 'Nicola'}\n"
          ],
          "name": "stdout"
        }
      ]
    },
    {
      "cell_type": "markdown",
      "metadata": {
        "id": "-RQ2oPwcf6AP",
        "colab_type": "text"
      },
      "source": [
        "Dizionario da una tupla"
      ]
    },
    {
      "cell_type": "code",
      "metadata": {
        "id": "ysliWlYteUtg",
        "colab_type": "code",
        "colab": {
          "base_uri": "https://localhost:8080/",
          "height": 35
        },
        "outputId": "d650ff23-2838-4d64-c676-34f17b9e26d3"
      },
      "source": [
        "names_age = ((\"Giuseppe\", 25), (\"Antonio\", 23), (\"Nicola\",24))\n",
        "people_dict = dict(names_age)\n",
        "print(people_dict)"
      ],
      "execution_count": 47,
      "outputs": [
        {
          "output_type": "stream",
          "text": [
            "{'Giuseppe': 25, 'Antonio': 23, 'Nicola': 24}\n"
          ],
          "name": "stdout"
        }
      ]
    },
    {
      "cell_type": "markdown",
      "metadata": {
        "id": "JCHH5wqEf_qx",
        "colab_type": "text"
      },
      "source": [
        "Dizionario da due liste"
      ]
    },
    {
      "cell_type": "code",
      "metadata": {
        "id": "FJ9gIbzJfYD4",
        "colab_type": "code",
        "colab": {
          "base_uri": "https://localhost:8080/",
          "height": 35
        },
        "outputId": "76fafd59-9755-42e5-e186-4ace64043b87"
      },
      "source": [
        "names = [\"Giuseppe\", \"Antonio\", \"Nicola\"]\n",
        "age = [25, 23, 24]\n",
        "\n",
        "names_age = zip(names, age)\n",
        "people_dict = dict(names_age)\n",
        "\n",
        "print(people_dict)"
      ],
      "execution_count": 49,
      "outputs": [
        {
          "output_type": "stream",
          "text": [
            "{'Giuseppe': 25, 'Antonio': 23, 'Nicola': 24}\n"
          ],
          "name": "stdout"
        }
      ]
    },
    {
      "cell_type": "code",
      "metadata": {
        "id": "k0OECGfLfmzA",
        "colab_type": "code",
        "colab": {
          "base_uri": "https://localhost:8080/",
          "height": 35
        },
        "outputId": "1877b3f7-3c1d-4a33-c33f-8c979e88eb81"
      },
      "source": [
        "people_dict = dict(zip(names, age))\n",
        "print(people_dict)"
      ],
      "execution_count": 50,
      "outputs": [
        {
          "output_type": "stream",
          "text": [
            "{'Giuseppe': 25, 'Antonio': 23, 'Nicola': 24}\n"
          ],
          "name": "stdout"
        }
      ]
    }
  ]
}