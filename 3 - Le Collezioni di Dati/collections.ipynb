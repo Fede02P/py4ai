{
  "nbformat": 4,
  "nbformat_minor": 0,
  "metadata": {
    "colab": {
      "name": "collections.ipynb",
      "provenance": [],
      "include_colab_link": true
    },
    "kernelspec": {
      "name": "python3",
      "display_name": "Python 3"
    }
  },
  "cells": [
    {
      "cell_type": "markdown",
      "metadata": {
        "id": "view-in-github",
        "colab_type": "text"
      },
      "source": [
        "<a href=\"https://colab.research.google.com/github/ProfAI/py4ai/blob/master/3%20-%20Le%20Collezioni%20di%20Dati/collections.ipynb\" target=\"_parent\"><img src=\"https://colab.research.google.com/assets/colab-badge.svg\" alt=\"Open In Colab\"/></a>"
      ]
    },
    {
      "cell_type": "markdown",
      "metadata": {
        "id": "lh3vODumW60M",
        "colab_type": "text"
      },
      "source": [
        "# Le Collezioni di Dati in Python"
      ]
    },
    {
      "cell_type": "markdown",
      "metadata": {
        "id": "rYelZFvpW_U5",
        "colab_type": "text"
      },
      "source": [
        "## Le Liste"
      ]
    },
    {
      "cell_type": "code",
      "metadata": {
        "id": "zmDlMZ_MViW-",
        "colab_type": "code",
        "colab": {
          "base_uri": "https://localhost:8080/",
          "height": 35
        },
        "outputId": "2d5b3a8b-75a7-4c90-c94a-5ebeda23817c"
      },
      "source": [
        "l = [1, 2 ,3 ,5 ,8 ,13 ,21]\n",
        "print(l, type(l))"
      ],
      "execution_count": 25,
      "outputs": [
        {
          "output_type": "stream",
          "text": [
            "[1, 2, 3, 5, 8, 13, 21] <class 'list'>\n"
          ],
          "name": "stdout"
        }
      ]
    },
    {
      "cell_type": "markdown",
      "metadata": {
        "id": "H3LplS2RXQsb",
        "colab_type": "text"
      },
      "source": [
        "Indexing"
      ]
    },
    {
      "cell_type": "code",
      "metadata": {
        "id": "T_dIV8iIXE4r",
        "colab_type": "code",
        "colab": {
          "base_uri": "https://localhost:8080/",
          "height": 69
        },
        "outputId": "8c9ce0f3-6fe5-402c-f539-c27e6ba754a5"
      },
      "source": [
        "print(l[0]) # primo elemento della lista\n",
        "print(l[1]) # secondo elemento della lista\n",
        "print(l[5]) # sesto elemento della lista"
      ],
      "execution_count": 2,
      "outputs": [
        {
          "output_type": "stream",
          "text": [
            "1\n",
            "2\n",
            "13\n"
          ],
          "name": "stdout"
        }
      ]
    },
    {
      "cell_type": "code",
      "metadata": {
        "id": "eQzq855nXiRh",
        "colab_type": "code",
        "colab": {
          "base_uri": "https://localhost:8080/",
          "height": 52
        },
        "outputId": "4d7fbbfd-9f9b-4b22-8c54-9bc793f45ff6"
      },
      "source": [
        "print(l[-1]) # ultimo elemento della lista\n",
        "print(l[-3]) # terzultimo elemento della lista"
      ],
      "execution_count": 3,
      "outputs": [
        {
          "output_type": "stream",
          "text": [
            "21\n",
            "8\n"
          ],
          "name": "stdout"
        }
      ]
    },
    {
      "cell_type": "markdown",
      "metadata": {
        "id": "3XcOOfb5Xtsi",
        "colab_type": "text"
      },
      "source": [
        "Slicing"
      ]
    },
    {
      "cell_type": "code",
      "metadata": {
        "id": "sLss6ObcXrQU",
        "colab_type": "code",
        "colab": {
          "base_uri": "https://localhost:8080/",
          "height": 87
        },
        "outputId": "6cd5f550-61fb-483e-a66e-75ff77762b4a"
      },
      "source": [
        "print(l[4:6]) # dal quarto (incluso) al sesto (esluso)\n",
        "print(l[:3]) # fino al terzo elemento\n",
        "print(l[-2:]) # ultimi due elementi\n",
        "print(l[:-2]) # fino agli ultimi due elementi"
      ],
      "execution_count": 4,
      "outputs": [
        {
          "output_type": "stream",
          "text": [
            "[8, 13]\n",
            "[1, 2, 3]\n",
            "[13, 21]\n",
            "[1, 2, 3, 5, 8]\n"
          ],
          "name": "stdout"
        }
      ]
    },
    {
      "cell_type": "code",
      "metadata": {
        "id": "OBsUofNEYMAV",
        "colab_type": "code",
        "colab": {
          "base_uri": "https://localhost:8080/",
          "height": 35
        },
        "outputId": "b3d708a0-af68-49a8-e4e3-1c2b19deac21"
      },
      "source": [
        "l[::-1] # dall'ultimo al primo"
      ],
      "execution_count": 5,
      "outputs": [
        {
          "output_type": "execute_result",
          "data": {
            "text/plain": [
              "[21, 13, 8, 5, 3, 2, 1]"
            ]
          },
          "metadata": {
            "tags": []
          },
          "execution_count": 5
        }
      ]
    },
    {
      "cell_type": "markdown",
      "metadata": {
        "id": "FHgTu2XtY6mX",
        "colab_type": "text"
      },
      "source": [
        "Modifica"
      ]
    },
    {
      "cell_type": "code",
      "metadata": {
        "id": "IJsok7jmY8z3",
        "colab_type": "code",
        "colab": {
          "base_uri": "https://localhost:8080/",
          "height": 52
        },
        "outputId": "104049ac-57a2-4c36-ca05-8c9c5ca9b3ea"
      },
      "source": [
        "print(\"Valora alla posizione 5: %d\" % l[4])\n",
        "l[4] = 10\n",
        "print(\"Nuovo valore alla posizione 5: %d\" % l[4])"
      ],
      "execution_count": 10,
      "outputs": [
        {
          "output_type": "stream",
          "text": [
            "Valora alla posizione 5: 8\n",
            "Nuovo valore alla posizione 5: 10\n"
          ],
          "name": "stdout"
        }
      ]
    },
    {
      "cell_type": "code",
      "metadata": {
        "id": "ds9XiZimZVQ6",
        "colab_type": "code",
        "colab": {
          "base_uri": "https://localhost:8080/",
          "height": 52
        },
        "outputId": "f530d675-11c3-4531-c1b3-2561aeb68d96"
      },
      "source": [
        "print(l)\n",
        "l[:2] = [90, 100]\n",
        "print(l)"
      ],
      "execution_count": 11,
      "outputs": [
        {
          "output_type": "stream",
          "text": [
            "[1, 2, 3, 5, 10, 13, 21]\n",
            "[90, 100, 3, 5, 10, 13, 21]\n"
          ],
          "name": "stdout"
        }
      ]
    },
    {
      "cell_type": "code",
      "metadata": {
        "id": "lWmfUL8NZ1Ko",
        "colab_type": "code",
        "colab": {
          "base_uri": "https://localhost:8080/",
          "height": 35
        },
        "outputId": "9f14b194-98ea-4c6b-e77e-2ddaca6a14b9"
      },
      "source": [
        "l = l[::-1]\n",
        "print(l)"
      ],
      "execution_count": 12,
      "outputs": [
        {
          "output_type": "stream",
          "text": [
            "[21, 13, 10, 5, 3, 100, 90]\n"
          ],
          "name": "stdout"
        }
      ]
    },
    {
      "cell_type": "code",
      "metadata": {
        "id": "JCJXe_X_Y1Ns",
        "colab_type": "code",
        "colab": {}
      },
      "source": [
        "subjects = [\"machine learning\", \"deep learning\", \"artificial intelligence\"]"
      ],
      "execution_count": 0,
      "outputs": []
    },
    {
      "cell_type": "code",
      "metadata": {
        "id": "s-mRsHwTcCxu",
        "colab_type": "code",
        "colab": {
          "base_uri": "https://localhost:8080/",
          "height": 35
        },
        "outputId": "580b0931-7e39-431d-d7ff-9a6527fc3aff"
      },
      "source": [
        "subjects.append(\"computer vision\")\n",
        "print(subjects)"
      ],
      "execution_count": 18,
      "outputs": [
        {
          "output_type": "stream",
          "text": [
            "['machine learning', 'deep learning', 'artificial intelligence', 'computer vision']\n"
          ],
          "name": "stdout"
        }
      ]
    },
    {
      "cell_type": "code",
      "metadata": {
        "id": "NtepbV07cbFU",
        "colab_type": "code",
        "colab": {
          "base_uri": "https://localhost:8080/",
          "height": 35
        },
        "outputId": "e0e0f64f-8bed-4ec1-fe89-540517a7ec29"
      },
      "source": [
        "subjects.insert(3, \"natural language processing\")\n",
        "print(subjects)"
      ],
      "execution_count": 19,
      "outputs": [
        {
          "output_type": "stream",
          "text": [
            "['machine learning', 'deep learning', 'artificial intelligence', 'natural language processing', 'computer vision']\n"
          ],
          "name": "stdout"
        }
      ]
    },
    {
      "cell_type": "code",
      "metadata": {
        "id": "Psej7VvyckK4",
        "colab_type": "code",
        "colab": {
          "base_uri": "https://localhost:8080/",
          "height": 35
        },
        "outputId": "5146b8ed-7a88-4c15-ea84-8ce47a6c258e"
      },
      "source": [
        "subjects = [\"machine learning\", \"deep learning\", \"artificial intelligence\"]\n",
        "subjects = subjects + [\"natural language processing\", \"computer vision\"]\n",
        "print(subjects)"
      ],
      "execution_count": 20,
      "outputs": [
        {
          "output_type": "stream",
          "text": [
            "['machine learning', 'deep learning', 'artificial intelligence', 'natural language processing', 'computer vision']\n"
          ],
          "name": "stdout"
        }
      ]
    },
    {
      "cell_type": "code",
      "metadata": {
        "id": "OscqZRYdc0_j",
        "colab_type": "code",
        "colab": {
          "base_uri": "https://localhost:8080/",
          "height": 35
        },
        "outputId": "ca11038a-3538-499d-e908-2b9c293ab998"
      },
      "source": [
        "subjects.remove(\"natural language processing\")\n",
        "print(subjects)"
      ],
      "execution_count": 21,
      "outputs": [
        {
          "output_type": "stream",
          "text": [
            "['machine learning', 'deep learning', 'artificial intelligence', 'computer vision']\n"
          ],
          "name": "stdout"
        }
      ]
    },
    {
      "cell_type": "code",
      "metadata": {
        "id": "iuPfVhfOdC2L",
        "colab_type": "code",
        "colab": {
          "base_uri": "https://localhost:8080/",
          "height": 35
        },
        "outputId": "11b70bb7-7f6a-4913-c1e7-d7dafe6b43f9"
      },
      "source": [
        "subjects.pop(1)\n",
        "print(subjects)"
      ],
      "execution_count": 22,
      "outputs": [
        {
          "output_type": "stream",
          "text": [
            "['machine learning', 'artificial intelligence', 'computer vision']\n"
          ],
          "name": "stdout"
        }
      ]
    },
    {
      "cell_type": "markdown",
      "metadata": {
        "id": "RJ9OwGi_YVbH",
        "colab_type": "text"
      },
      "source": [
        "Verifica"
      ]
    },
    {
      "cell_type": "code",
      "metadata": {
        "id": "6Fp7XjfHYaUq",
        "colab_type": "code",
        "colab": {
          "base_uri": "https://localhost:8080/",
          "height": 35
        },
        "outputId": "42e1a52d-c55c-4434-c9cf-7fce90ff8f8a"
      },
      "source": [
        "print(\"artificial intelligence\" in subjects)"
      ],
      "execution_count": 9,
      "outputs": [
        {
          "output_type": "stream",
          "text": [
            "True\n"
          ],
          "name": "stdout"
        }
      ]
    },
    {
      "cell_type": "markdown",
      "metadata": {
        "id": "hlidK1r-dZIt",
        "colab_type": "text"
      },
      "source": [
        "## Le Tuple"
      ]
    },
    {
      "cell_type": "code",
      "metadata": {
        "id": "SVRAbKy1davn",
        "colab_type": "code",
        "colab": {
          "base_uri": "https://localhost:8080/",
          "height": 35
        },
        "outputId": "5469fb75-3e54-498e-a49f-570e84f0a28d"
      },
      "source": [
        "t = (1, 2 ,3 ,5 ,8 ,13 ,21)\n",
        "print(t, type(t))"
      ],
      "execution_count": 24,
      "outputs": [
        {
          "output_type": "stream",
          "text": [
            "(1, 2, 3, 5, 8, 13, 21) <class 'tuple'>\n"
          ],
          "name": "stdout"
        }
      ]
    },
    {
      "cell_type": "code",
      "metadata": {
        "id": "Jx53_pXQenfo",
        "colab_type": "code",
        "colab": {
          "base_uri": "https://localhost:8080/",
          "height": 52
        },
        "outputId": "c2a65d2f-75b4-4b66-ed45-23f26385b35a"
      },
      "source": [
        "print(t[0]) # primo elemento della tupla\n",
        "print(t[-1]) # ultimo elemento della tupla"
      ],
      "execution_count": 26,
      "outputs": [
        {
          "output_type": "stream",
          "text": [
            "1\n",
            "21\n"
          ],
          "name": "stdout"
        }
      ]
    },
    {
      "cell_type": "code",
      "metadata": {
        "id": "yQDIHV0we1k_",
        "colab_type": "code",
        "colab": {
          "base_uri": "https://localhost:8080/",
          "height": 52
        },
        "outputId": "8a770679-3904-4a70-e825-738d553e3a36"
      },
      "source": [
        "print(t[:3]) # primi 3 elementi\n",
        "print(t[3:6]) # dal terzo (incluso) al sesto (escluso)"
      ],
      "execution_count": 29,
      "outputs": [
        {
          "output_type": "stream",
          "text": [
            "(1, 2, 3)\n",
            "(5, 8, 13)\n"
          ],
          "name": "stdout"
        }
      ]
    },
    {
      "cell_type": "code",
      "metadata": {
        "id": "VXwtkKxDe6zA",
        "colab_type": "code",
        "colab": {
          "base_uri": "https://localhost:8080/",
          "height": 166
        },
        "outputId": "78cbd011-0063-4fa1-e649-d6369c895318"
      },
      "source": [
        "t[0] = 2"
      ],
      "execution_count": 30,
      "outputs": [
        {
          "output_type": "error",
          "ename": "TypeError",
          "evalue": "ignored",
          "traceback": [
            "\u001b[0;31m---------------------------------------------------------------------------\u001b[0m",
            "\u001b[0;31mTypeError\u001b[0m                                 Traceback (most recent call last)",
            "\u001b[0;32m<ipython-input-30-0c6697a06bab>\u001b[0m in \u001b[0;36m<module>\u001b[0;34m()\u001b[0m\n\u001b[0;32m----> 1\u001b[0;31m \u001b[0mt\u001b[0m\u001b[0;34m[\u001b[0m\u001b[0;36m0\u001b[0m\u001b[0;34m]\u001b[0m \u001b[0;34m=\u001b[0m \u001b[0;36m2\u001b[0m\u001b[0;34m\u001b[0m\u001b[0;34m\u001b[0m\u001b[0m\n\u001b[0m",
            "\u001b[0;31mTypeError\u001b[0m: 'tuple' object does not support item assignment"
          ]
        }
      ]
    },
    {
      "cell_type": "code",
      "metadata": {
        "id": "FRhS2yDnfKmq",
        "colab_type": "code",
        "colab": {}
      },
      "source": [
        ""
      ],
      "execution_count": 0,
      "outputs": []
    }
  ]
}